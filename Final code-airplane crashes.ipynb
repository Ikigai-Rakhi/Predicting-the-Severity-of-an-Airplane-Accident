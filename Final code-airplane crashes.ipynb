{
 "cells": [
  {
   "cell_type": "code",
   "execution_count": 1,
   "metadata": {},
   "outputs": [],
   "source": [
    "import pandas as pd\n",
    "import numpy as np\n",
    "import matplotlib.pyplot as plt\n",
    "from matplotlib import style\n",
    "import seaborn as sns\n",
    "%matplotlib inline  \n",
    "from sklearn.model_selection import train_test_split\n",
    "import os\n",
    "from scipy import stats\n",
    "import warnings\n",
    "warnings.filterwarnings(action= 'ignore')"
   ]
  },
  {
   "cell_type": "code",
   "execution_count": 2,
   "metadata": {},
   "outputs": [],
   "source": [
    "training= pd.read_csv(\"train.csv\")\n",
    "testing= pd.read_csv(\"test.csv\")"
   ]
  },
  {
   "cell_type": "code",
   "execution_count": 3,
   "metadata": {},
   "outputs": [
    {
     "data": {
      "text/html": [
       "<div>\n",
       "<style scoped>\n",
       "    .dataframe tbody tr th:only-of-type {\n",
       "        vertical-align: middle;\n",
       "    }\n",
       "\n",
       "    .dataframe tbody tr th {\n",
       "        vertical-align: top;\n",
       "    }\n",
       "\n",
       "    .dataframe thead th {\n",
       "        text-align: right;\n",
       "    }\n",
       "</style>\n",
       "<table border=\"1\" class=\"dataframe\">\n",
       "  <thead>\n",
       "    <tr style=\"text-align: right;\">\n",
       "      <th></th>\n",
       "      <th>Severity</th>\n",
       "      <th>Safety_Score</th>\n",
       "      <th>Days_Since_Inspection</th>\n",
       "      <th>Total_Safety_Complaints</th>\n",
       "      <th>Control_Metric</th>\n",
       "      <th>Turbulence_In_gforces</th>\n",
       "      <th>Cabin_Temperature</th>\n",
       "      <th>Accident_Type_Code</th>\n",
       "      <th>Max_Elevation</th>\n",
       "      <th>Violations</th>\n",
       "      <th>Adverse_Weather_Metric</th>\n",
       "      <th>Accident_ID</th>\n",
       "    </tr>\n",
       "  </thead>\n",
       "  <tbody>\n",
       "    <tr>\n",
       "      <td>0</td>\n",
       "      <td>Minor_Damage_And_Injuries</td>\n",
       "      <td>49.223744</td>\n",
       "      <td>14</td>\n",
       "      <td>22</td>\n",
       "      <td>71.285324</td>\n",
       "      <td>0.272118</td>\n",
       "      <td>78.04</td>\n",
       "      <td>2</td>\n",
       "      <td>31335.476824</td>\n",
       "      <td>3</td>\n",
       "      <td>0.424352</td>\n",
       "      <td>7570</td>\n",
       "    </tr>\n",
       "    <tr>\n",
       "      <td>1</td>\n",
       "      <td>Minor_Damage_And_Injuries</td>\n",
       "      <td>62.465753</td>\n",
       "      <td>10</td>\n",
       "      <td>27</td>\n",
       "      <td>72.288058</td>\n",
       "      <td>0.423939</td>\n",
       "      <td>84.54</td>\n",
       "      <td>2</td>\n",
       "      <td>26024.711057</td>\n",
       "      <td>2</td>\n",
       "      <td>0.352350</td>\n",
       "      <td>12128</td>\n",
       "    </tr>\n",
       "    <tr>\n",
       "      <td>2</td>\n",
       "      <td>Significant_Damage_And_Fatalities</td>\n",
       "      <td>63.059361</td>\n",
       "      <td>13</td>\n",
       "      <td>16</td>\n",
       "      <td>66.362808</td>\n",
       "      <td>0.322604</td>\n",
       "      <td>78.86</td>\n",
       "      <td>7</td>\n",
       "      <td>39269.053927</td>\n",
       "      <td>3</td>\n",
       "      <td>0.003364</td>\n",
       "      <td>2181</td>\n",
       "    </tr>\n",
       "    <tr>\n",
       "      <td>3</td>\n",
       "      <td>Significant_Damage_And_Serious_Injuries</td>\n",
       "      <td>48.082192</td>\n",
       "      <td>11</td>\n",
       "      <td>9</td>\n",
       "      <td>74.703737</td>\n",
       "      <td>0.337029</td>\n",
       "      <td>81.79</td>\n",
       "      <td>3</td>\n",
       "      <td>42771.499200</td>\n",
       "      <td>1</td>\n",
       "      <td>0.211728</td>\n",
       "      <td>5946</td>\n",
       "    </tr>\n",
       "    <tr>\n",
       "      <td>4</td>\n",
       "      <td>Significant_Damage_And_Fatalities</td>\n",
       "      <td>26.484018</td>\n",
       "      <td>13</td>\n",
       "      <td>25</td>\n",
       "      <td>47.948952</td>\n",
       "      <td>0.541140</td>\n",
       "      <td>77.16</td>\n",
       "      <td>3</td>\n",
       "      <td>35509.228515</td>\n",
       "      <td>2</td>\n",
       "      <td>0.176883</td>\n",
       "      <td>9054</td>\n",
       "    </tr>\n",
       "  </tbody>\n",
       "</table>\n",
       "</div>"
      ],
      "text/plain": [
       "                                  Severity  Safety_Score  \\\n",
       "0                Minor_Damage_And_Injuries     49.223744   \n",
       "1                Minor_Damage_And_Injuries     62.465753   \n",
       "2        Significant_Damage_And_Fatalities     63.059361   \n",
       "3  Significant_Damage_And_Serious_Injuries     48.082192   \n",
       "4        Significant_Damage_And_Fatalities     26.484018   \n",
       "\n",
       "   Days_Since_Inspection  Total_Safety_Complaints  Control_Metric  \\\n",
       "0                     14                       22       71.285324   \n",
       "1                     10                       27       72.288058   \n",
       "2                     13                       16       66.362808   \n",
       "3                     11                        9       74.703737   \n",
       "4                     13                       25       47.948952   \n",
       "\n",
       "   Turbulence_In_gforces  Cabin_Temperature  Accident_Type_Code  \\\n",
       "0               0.272118              78.04                   2   \n",
       "1               0.423939              84.54                   2   \n",
       "2               0.322604              78.86                   7   \n",
       "3               0.337029              81.79                   3   \n",
       "4               0.541140              77.16                   3   \n",
       "\n",
       "   Max_Elevation  Violations  Adverse_Weather_Metric  Accident_ID  \n",
       "0   31335.476824           3                0.424352         7570  \n",
       "1   26024.711057           2                0.352350        12128  \n",
       "2   39269.053927           3                0.003364         2181  \n",
       "3   42771.499200           1                0.211728         5946  \n",
       "4   35509.228515           2                0.176883         9054  "
      ]
     },
     "execution_count": 3,
     "metadata": {},
     "output_type": "execute_result"
    }
   ],
   "source": [
    "#Viewing and exploring training data\n",
    "training.head()"
   ]
  },
  {
   "cell_type": "code",
   "execution_count": 4,
   "metadata": {},
   "outputs": [
    {
     "data": {
      "text/plain": [
       "(10000, 12)"
      ]
     },
     "execution_count": 4,
     "metadata": {},
     "output_type": "execute_result"
    }
   ],
   "source": [
    "training.shape"
   ]
  },
  {
   "cell_type": "code",
   "execution_count": 5,
   "metadata": {},
   "outputs": [
    {
     "data": {
      "text/html": [
       "<div>\n",
       "<style scoped>\n",
       "    .dataframe tbody tr th:only-of-type {\n",
       "        vertical-align: middle;\n",
       "    }\n",
       "\n",
       "    .dataframe tbody tr th {\n",
       "        vertical-align: top;\n",
       "    }\n",
       "\n",
       "    .dataframe thead th {\n",
       "        text-align: right;\n",
       "    }\n",
       "</style>\n",
       "<table border=\"1\" class=\"dataframe\">\n",
       "  <thead>\n",
       "    <tr style=\"text-align: right;\">\n",
       "      <th></th>\n",
       "      <th>Safety_Score</th>\n",
       "      <th>Days_Since_Inspection</th>\n",
       "      <th>Total_Safety_Complaints</th>\n",
       "      <th>Control_Metric</th>\n",
       "      <th>Turbulence_In_gforces</th>\n",
       "      <th>Cabin_Temperature</th>\n",
       "      <th>Accident_Type_Code</th>\n",
       "      <th>Max_Elevation</th>\n",
       "      <th>Violations</th>\n",
       "      <th>Adverse_Weather_Metric</th>\n",
       "      <th>Accident_ID</th>\n",
       "    </tr>\n",
       "  </thead>\n",
       "  <tbody>\n",
       "    <tr>\n",
       "      <td>count</td>\n",
       "      <td>10000.000000</td>\n",
       "      <td>10000.000000</td>\n",
       "      <td>10000.000000</td>\n",
       "      <td>10000.000000</td>\n",
       "      <td>10000.000000</td>\n",
       "      <td>10000.000000</td>\n",
       "      <td>10000.000000</td>\n",
       "      <td>10000.000000</td>\n",
       "      <td>10000.00000</td>\n",
       "      <td>10000.000000</td>\n",
       "      <td>10000.000000</td>\n",
       "    </tr>\n",
       "    <tr>\n",
       "      <td>mean</td>\n",
       "      <td>41.876406</td>\n",
       "      <td>12.931100</td>\n",
       "      <td>6.564300</td>\n",
       "      <td>65.145324</td>\n",
       "      <td>0.381495</td>\n",
       "      <td>79.969331</td>\n",
       "      <td>3.814900</td>\n",
       "      <td>32001.803282</td>\n",
       "      <td>2.01220</td>\n",
       "      <td>0.255635</td>\n",
       "      <td>6266.554200</td>\n",
       "    </tr>\n",
       "    <tr>\n",
       "      <td>std</td>\n",
       "      <td>16.138072</td>\n",
       "      <td>3.539803</td>\n",
       "      <td>6.971982</td>\n",
       "      <td>11.882934</td>\n",
       "      <td>0.121301</td>\n",
       "      <td>2.759739</td>\n",
       "      <td>1.902577</td>\n",
       "      <td>9431.995196</td>\n",
       "      <td>1.03998</td>\n",
       "      <td>0.381128</td>\n",
       "      <td>3610.170288</td>\n",
       "    </tr>\n",
       "    <tr>\n",
       "      <td>min</td>\n",
       "      <td>0.000000</td>\n",
       "      <td>1.000000</td>\n",
       "      <td>0.000000</td>\n",
       "      <td>0.000000</td>\n",
       "      <td>0.134000</td>\n",
       "      <td>74.740000</td>\n",
       "      <td>1.000000</td>\n",
       "      <td>831.695553</td>\n",
       "      <td>0.00000</td>\n",
       "      <td>0.000316</td>\n",
       "      <td>2.000000</td>\n",
       "    </tr>\n",
       "    <tr>\n",
       "      <td>25%</td>\n",
       "      <td>30.593607</td>\n",
       "      <td>11.000000</td>\n",
       "      <td>2.000000</td>\n",
       "      <td>56.927985</td>\n",
       "      <td>0.293665</td>\n",
       "      <td>77.960000</td>\n",
       "      <td>2.000000</td>\n",
       "      <td>25757.636908</td>\n",
       "      <td>1.00000</td>\n",
       "      <td>0.012063</td>\n",
       "      <td>3139.750000</td>\n",
       "    </tr>\n",
       "    <tr>\n",
       "      <td>50%</td>\n",
       "      <td>41.278539</td>\n",
       "      <td>13.000000</td>\n",
       "      <td>4.000000</td>\n",
       "      <td>65.587967</td>\n",
       "      <td>0.365879</td>\n",
       "      <td>79.540000</td>\n",
       "      <td>4.000000</td>\n",
       "      <td>32060.336419</td>\n",
       "      <td>2.00000</td>\n",
       "      <td>0.074467</td>\n",
       "      <td>6280.500000</td>\n",
       "    </tr>\n",
       "    <tr>\n",
       "      <td>75%</td>\n",
       "      <td>52.511416</td>\n",
       "      <td>15.000000</td>\n",
       "      <td>9.000000</td>\n",
       "      <td>73.336372</td>\n",
       "      <td>0.451346</td>\n",
       "      <td>81.560000</td>\n",
       "      <td>5.000000</td>\n",
       "      <td>38380.641513</td>\n",
       "      <td>3.00000</td>\n",
       "      <td>0.354059</td>\n",
       "      <td>9391.500000</td>\n",
       "    </tr>\n",
       "    <tr>\n",
       "      <td>max</td>\n",
       "      <td>100.000000</td>\n",
       "      <td>23.000000</td>\n",
       "      <td>54.000000</td>\n",
       "      <td>100.000000</td>\n",
       "      <td>0.882648</td>\n",
       "      <td>97.510000</td>\n",
       "      <td>7.000000</td>\n",
       "      <td>64297.651218</td>\n",
       "      <td>5.00000</td>\n",
       "      <td>2.365378</td>\n",
       "      <td>12500.000000</td>\n",
       "    </tr>\n",
       "  </tbody>\n",
       "</table>\n",
       "</div>"
      ],
      "text/plain": [
       "       Safety_Score  Days_Since_Inspection  Total_Safety_Complaints  \\\n",
       "count  10000.000000           10000.000000             10000.000000   \n",
       "mean      41.876406              12.931100                 6.564300   \n",
       "std       16.138072               3.539803                 6.971982   \n",
       "min        0.000000               1.000000                 0.000000   \n",
       "25%       30.593607              11.000000                 2.000000   \n",
       "50%       41.278539              13.000000                 4.000000   \n",
       "75%       52.511416              15.000000                 9.000000   \n",
       "max      100.000000              23.000000                54.000000   \n",
       "\n",
       "       Control_Metric  Turbulence_In_gforces  Cabin_Temperature  \\\n",
       "count    10000.000000           10000.000000       10000.000000   \n",
       "mean        65.145324               0.381495          79.969331   \n",
       "std         11.882934               0.121301           2.759739   \n",
       "min          0.000000               0.134000          74.740000   \n",
       "25%         56.927985               0.293665          77.960000   \n",
       "50%         65.587967               0.365879          79.540000   \n",
       "75%         73.336372               0.451346          81.560000   \n",
       "max        100.000000               0.882648          97.510000   \n",
       "\n",
       "       Accident_Type_Code  Max_Elevation   Violations  Adverse_Weather_Metric  \\\n",
       "count        10000.000000   10000.000000  10000.00000            10000.000000   \n",
       "mean             3.814900   32001.803282      2.01220                0.255635   \n",
       "std              1.902577    9431.995196      1.03998                0.381128   \n",
       "min              1.000000     831.695553      0.00000                0.000316   \n",
       "25%              2.000000   25757.636908      1.00000                0.012063   \n",
       "50%              4.000000   32060.336419      2.00000                0.074467   \n",
       "75%              5.000000   38380.641513      3.00000                0.354059   \n",
       "max              7.000000   64297.651218      5.00000                2.365378   \n",
       "\n",
       "        Accident_ID  \n",
       "count  10000.000000  \n",
       "mean    6266.554200  \n",
       "std     3610.170288  \n",
       "min        2.000000  \n",
       "25%     3139.750000  \n",
       "50%     6280.500000  \n",
       "75%     9391.500000  \n",
       "max    12500.000000  "
      ]
     },
     "execution_count": 5,
     "metadata": {},
     "output_type": "execute_result"
    }
   ],
   "source": [
    "training.describe()"
   ]
  },
  {
   "cell_type": "code",
   "execution_count": 6,
   "metadata": {},
   "outputs": [
    {
     "data": {
      "text/html": [
       "<div>\n",
       "<style scoped>\n",
       "    .dataframe tbody tr th:only-of-type {\n",
       "        vertical-align: middle;\n",
       "    }\n",
       "\n",
       "    .dataframe tbody tr th {\n",
       "        vertical-align: top;\n",
       "    }\n",
       "\n",
       "    .dataframe thead th {\n",
       "        text-align: right;\n",
       "    }\n",
       "</style>\n",
       "<table border=\"1\" class=\"dataframe\">\n",
       "  <thead>\n",
       "    <tr style=\"text-align: right;\">\n",
       "      <th></th>\n",
       "      <th>Safety_Score</th>\n",
       "      <th>Days_Since_Inspection</th>\n",
       "      <th>Total_Safety_Complaints</th>\n",
       "      <th>Control_Metric</th>\n",
       "      <th>Turbulence_In_gforces</th>\n",
       "      <th>Cabin_Temperature</th>\n",
       "      <th>Accident_Type_Code</th>\n",
       "      <th>Max_Elevation</th>\n",
       "      <th>Violations</th>\n",
       "      <th>Adverse_Weather_Metric</th>\n",
       "      <th>Accident_ID</th>\n",
       "    </tr>\n",
       "  </thead>\n",
       "  <tbody>\n",
       "    <tr>\n",
       "      <td>0</td>\n",
       "      <td>19.497717</td>\n",
       "      <td>16</td>\n",
       "      <td>6</td>\n",
       "      <td>72.151322</td>\n",
       "      <td>0.388959</td>\n",
       "      <td>78.32</td>\n",
       "      <td>4</td>\n",
       "      <td>37949.724386</td>\n",
       "      <td>2</td>\n",
       "      <td>0.069692</td>\n",
       "      <td>1</td>\n",
       "    </tr>\n",
       "    <tr>\n",
       "      <td>1</td>\n",
       "      <td>58.173516</td>\n",
       "      <td>15</td>\n",
       "      <td>3</td>\n",
       "      <td>64.585232</td>\n",
       "      <td>0.250841</td>\n",
       "      <td>78.60</td>\n",
       "      <td>7</td>\n",
       "      <td>30194.805567</td>\n",
       "      <td>2</td>\n",
       "      <td>0.002777</td>\n",
       "      <td>10</td>\n",
       "    </tr>\n",
       "    <tr>\n",
       "      <td>2</td>\n",
       "      <td>33.287671</td>\n",
       "      <td>15</td>\n",
       "      <td>3</td>\n",
       "      <td>64.721969</td>\n",
       "      <td>0.336669</td>\n",
       "      <td>86.96</td>\n",
       "      <td>6</td>\n",
       "      <td>17572.925484</td>\n",
       "      <td>1</td>\n",
       "      <td>0.004316</td>\n",
       "      <td>14</td>\n",
       "    </tr>\n",
       "    <tr>\n",
       "      <td>3</td>\n",
       "      <td>3.287671</td>\n",
       "      <td>21</td>\n",
       "      <td>5</td>\n",
       "      <td>66.362808</td>\n",
       "      <td>0.421775</td>\n",
       "      <td>80.86</td>\n",
       "      <td>3</td>\n",
       "      <td>40209.186341</td>\n",
       "      <td>2</td>\n",
       "      <td>0.199990</td>\n",
       "      <td>17</td>\n",
       "    </tr>\n",
       "    <tr>\n",
       "      <td>4</td>\n",
       "      <td>10.867580</td>\n",
       "      <td>18</td>\n",
       "      <td>2</td>\n",
       "      <td>56.107566</td>\n",
       "      <td>0.313228</td>\n",
       "      <td>79.22</td>\n",
       "      <td>2</td>\n",
       "      <td>35495.525408</td>\n",
       "      <td>2</td>\n",
       "      <td>0.483696</td>\n",
       "      <td>21</td>\n",
       "    </tr>\n",
       "  </tbody>\n",
       "</table>\n",
       "</div>"
      ],
      "text/plain": [
       "   Safety_Score  Days_Since_Inspection  Total_Safety_Complaints  \\\n",
       "0     19.497717                     16                        6   \n",
       "1     58.173516                     15                        3   \n",
       "2     33.287671                     15                        3   \n",
       "3      3.287671                     21                        5   \n",
       "4     10.867580                     18                        2   \n",
       "\n",
       "   Control_Metric  Turbulence_In_gforces  Cabin_Temperature  \\\n",
       "0       72.151322               0.388959              78.32   \n",
       "1       64.585232               0.250841              78.60   \n",
       "2       64.721969               0.336669              86.96   \n",
       "3       66.362808               0.421775              80.86   \n",
       "4       56.107566               0.313228              79.22   \n",
       "\n",
       "   Accident_Type_Code  Max_Elevation  Violations  Adverse_Weather_Metric  \\\n",
       "0                   4   37949.724386           2                0.069692   \n",
       "1                   7   30194.805567           2                0.002777   \n",
       "2                   6   17572.925484           1                0.004316   \n",
       "3                   3   40209.186341           2                0.199990   \n",
       "4                   2   35495.525408           2                0.483696   \n",
       "\n",
       "   Accident_ID  \n",
       "0            1  \n",
       "1           10  \n",
       "2           14  \n",
       "3           17  \n",
       "4           21  "
      ]
     },
     "execution_count": 6,
     "metadata": {},
     "output_type": "execute_result"
    }
   ],
   "source": [
    "#Checking shape, size and description of testing data\n",
    "testing.head()"
   ]
  },
  {
   "cell_type": "code",
   "execution_count": 7,
   "metadata": {},
   "outputs": [
    {
     "data": {
      "text/plain": [
       "(2500, 11)"
      ]
     },
     "execution_count": 7,
     "metadata": {},
     "output_type": "execute_result"
    }
   ],
   "source": [
    "testing.shape"
   ]
  },
  {
   "cell_type": "code",
   "execution_count": 8,
   "metadata": {},
   "outputs": [
    {
     "data": {
      "text/html": [
       "<div>\n",
       "<style scoped>\n",
       "    .dataframe tbody tr th:only-of-type {\n",
       "        vertical-align: middle;\n",
       "    }\n",
       "\n",
       "    .dataframe tbody tr th {\n",
       "        vertical-align: top;\n",
       "    }\n",
       "\n",
       "    .dataframe thead th {\n",
       "        text-align: right;\n",
       "    }\n",
       "</style>\n",
       "<table border=\"1\" class=\"dataframe\">\n",
       "  <thead>\n",
       "    <tr style=\"text-align: right;\">\n",
       "      <th></th>\n",
       "      <th>Safety_Score</th>\n",
       "      <th>Days_Since_Inspection</th>\n",
       "      <th>Total_Safety_Complaints</th>\n",
       "      <th>Control_Metric</th>\n",
       "      <th>Turbulence_In_gforces</th>\n",
       "      <th>Cabin_Temperature</th>\n",
       "      <th>Accident_Type_Code</th>\n",
       "      <th>Max_Elevation</th>\n",
       "      <th>Violations</th>\n",
       "      <th>Adverse_Weather_Metric</th>\n",
       "      <th>Accident_ID</th>\n",
       "    </tr>\n",
       "  </thead>\n",
       "  <tbody>\n",
       "    <tr>\n",
       "      <td>count</td>\n",
       "      <td>2500.000000</td>\n",
       "      <td>2500.000000</td>\n",
       "      <td>2500.000000</td>\n",
       "      <td>2500.000000</td>\n",
       "      <td>2500.000000</td>\n",
       "      <td>2500.000000</td>\n",
       "      <td>2500.000000</td>\n",
       "      <td>2500.000000</td>\n",
       "      <td>2500.000000</td>\n",
       "      <td>2500.000000</td>\n",
       "      <td>2500.000000</td>\n",
       "    </tr>\n",
       "    <tr>\n",
       "      <td>mean</td>\n",
       "      <td>41.825224</td>\n",
       "      <td>12.946400</td>\n",
       "      <td>6.574800</td>\n",
       "      <td>65.368058</td>\n",
       "      <td>0.376197</td>\n",
       "      <td>79.993068</td>\n",
       "      <td>3.853600</td>\n",
       "      <td>32383.134179</td>\n",
       "      <td>1.990800</td>\n",
       "      <td>0.250886</td>\n",
       "      <td>6186.283200</td>\n",
       "    </tr>\n",
       "    <tr>\n",
       "      <td>std</td>\n",
       "      <td>16.280187</td>\n",
       "      <td>3.523364</td>\n",
       "      <td>7.179542</td>\n",
       "      <td>11.442005</td>\n",
       "      <td>0.116960</td>\n",
       "      <td>2.713833</td>\n",
       "      <td>1.877652</td>\n",
       "      <td>9485.096436</td>\n",
       "      <td>1.018592</td>\n",
       "      <td>0.387663</td>\n",
       "      <td>3602.235035</td>\n",
       "    </tr>\n",
       "    <tr>\n",
       "      <td>min</td>\n",
       "      <td>0.000000</td>\n",
       "      <td>1.000000</td>\n",
       "      <td>0.000000</td>\n",
       "      <td>20.966272</td>\n",
       "      <td>0.143376</td>\n",
       "      <td>74.740000</td>\n",
       "      <td>1.000000</td>\n",
       "      <td>831.695553</td>\n",
       "      <td>0.000000</td>\n",
       "      <td>0.000368</td>\n",
       "      <td>1.000000</td>\n",
       "    </tr>\n",
       "    <tr>\n",
       "      <td>25%</td>\n",
       "      <td>30.593607</td>\n",
       "      <td>11.000000</td>\n",
       "      <td>1.000000</td>\n",
       "      <td>57.702826</td>\n",
       "      <td>0.292583</td>\n",
       "      <td>77.930000</td>\n",
       "      <td>2.000000</td>\n",
       "      <td>26008.851717</td>\n",
       "      <td>1.000000</td>\n",
       "      <td>0.013136</td>\n",
       "      <td>3071.750000</td>\n",
       "    </tr>\n",
       "    <tr>\n",
       "      <td>50%</td>\n",
       "      <td>41.461187</td>\n",
       "      <td>13.000000</td>\n",
       "      <td>4.000000</td>\n",
       "      <td>66.066545</td>\n",
       "      <td>0.357404</td>\n",
       "      <td>79.600000</td>\n",
       "      <td>4.000000</td>\n",
       "      <td>32472.865497</td>\n",
       "      <td>2.000000</td>\n",
       "      <td>0.072466</td>\n",
       "      <td>6159.500000</td>\n",
       "    </tr>\n",
       "    <tr>\n",
       "      <td>75%</td>\n",
       "      <td>52.751142</td>\n",
       "      <td>15.000000</td>\n",
       "      <td>9.000000</td>\n",
       "      <td>73.119872</td>\n",
       "      <td>0.441699</td>\n",
       "      <td>81.530000</td>\n",
       "      <td>5.000000</td>\n",
       "      <td>38759.519071</td>\n",
       "      <td>3.000000</td>\n",
       "      <td>0.315407</td>\n",
       "      <td>9309.250000</td>\n",
       "    </tr>\n",
       "    <tr>\n",
       "      <td>max</td>\n",
       "      <td>100.000000</td>\n",
       "      <td>23.000000</td>\n",
       "      <td>54.000000</td>\n",
       "      <td>97.994531</td>\n",
       "      <td>0.881926</td>\n",
       "      <td>94.200000</td>\n",
       "      <td>7.000000</td>\n",
       "      <td>62315.408444</td>\n",
       "      <td>5.000000</td>\n",
       "      <td>2.365378</td>\n",
       "      <td>12493.000000</td>\n",
       "    </tr>\n",
       "  </tbody>\n",
       "</table>\n",
       "</div>"
      ],
      "text/plain": [
       "       Safety_Score  Days_Since_Inspection  Total_Safety_Complaints  \\\n",
       "count   2500.000000            2500.000000              2500.000000   \n",
       "mean      41.825224              12.946400                 6.574800   \n",
       "std       16.280187               3.523364                 7.179542   \n",
       "min        0.000000               1.000000                 0.000000   \n",
       "25%       30.593607              11.000000                 1.000000   \n",
       "50%       41.461187              13.000000                 4.000000   \n",
       "75%       52.751142              15.000000                 9.000000   \n",
       "max      100.000000              23.000000                54.000000   \n",
       "\n",
       "       Control_Metric  Turbulence_In_gforces  Cabin_Temperature  \\\n",
       "count     2500.000000            2500.000000        2500.000000   \n",
       "mean        65.368058               0.376197          79.993068   \n",
       "std         11.442005               0.116960           2.713833   \n",
       "min         20.966272               0.143376          74.740000   \n",
       "25%         57.702826               0.292583          77.930000   \n",
       "50%         66.066545               0.357404          79.600000   \n",
       "75%         73.119872               0.441699          81.530000   \n",
       "max         97.994531               0.881926          94.200000   \n",
       "\n",
       "       Accident_Type_Code  Max_Elevation   Violations  Adverse_Weather_Metric  \\\n",
       "count         2500.000000    2500.000000  2500.000000             2500.000000   \n",
       "mean             3.853600   32383.134179     1.990800                0.250886   \n",
       "std              1.877652    9485.096436     1.018592                0.387663   \n",
       "min              1.000000     831.695553     0.000000                0.000368   \n",
       "25%              2.000000   26008.851717     1.000000                0.013136   \n",
       "50%              4.000000   32472.865497     2.000000                0.072466   \n",
       "75%              5.000000   38759.519071     3.000000                0.315407   \n",
       "max              7.000000   62315.408444     5.000000                2.365378   \n",
       "\n",
       "        Accident_ID  \n",
       "count   2500.000000  \n",
       "mean    6186.283200  \n",
       "std     3602.235035  \n",
       "min        1.000000  \n",
       "25%     3071.750000  \n",
       "50%     6159.500000  \n",
       "75%     9309.250000  \n",
       "max    12493.000000  "
      ]
     },
     "execution_count": 8,
     "metadata": {},
     "output_type": "execute_result"
    }
   ],
   "source": [
    "testing.describe()"
   ]
  },
  {
   "cell_type": "markdown",
   "metadata": {},
   "source": [
    "One thing to note here is that the test data follows a similar distribution as the training data except two variables 'Control_Metric' and 'Turbulenece_in_gforces' with different Interquertile Range(IQR)."
   ]
  },
  {
   "cell_type": "code",
   "execution_count": 9,
   "metadata": {},
   "outputs": [
    {
     "name": "stdout",
     "output_type": "stream",
     "text": [
      "Null values in training: Severity                   0\n",
      "Safety_Score               0\n",
      "Days_Since_Inspection      0\n",
      "Total_Safety_Complaints    0\n",
      "Control_Metric             0\n",
      "Turbulence_In_gforces      0\n",
      "Cabin_Temperature          0\n",
      "Accident_Type_Code         0\n",
      "Max_Elevation              0\n",
      "Violations                 0\n",
      "Adverse_Weather_Metric     0\n",
      "Accident_ID                0\n",
      "dtype: int64\n",
      "Null values in testing: Safety_Score               0\n",
      "Days_Since_Inspection      0\n",
      "Total_Safety_Complaints    0\n",
      "Control_Metric             0\n",
      "Turbulence_In_gforces      0\n",
      "Cabin_Temperature          0\n",
      "Accident_Type_Code         0\n",
      "Max_Elevation              0\n",
      "Violations                 0\n",
      "Adverse_Weather_Metric     0\n",
      "Accident_ID                0\n",
      "dtype: int64\n"
     ]
    }
   ],
   "source": [
    "#Let's check for Na values\n",
    "print(\"Null values in training:\", training.isnull().sum())\n",
    "print(\"Null values in testing:\", testing.isnull().sum())\n"
   ]
  },
  {
   "cell_type": "code",
   "execution_count": 10,
   "metadata": {},
   "outputs": [
    {
     "data": {
      "text/plain": [
       "array(['Minor_Damage_And_Injuries', 'Significant_Damage_And_Fatalities',\n",
       "       'Significant_Damage_And_Serious_Injuries',\n",
       "       'Highly_Fatal_And_Damaging'], dtype=object)"
      ]
     },
     "execution_count": 10,
     "metadata": {},
     "output_type": "execute_result"
    }
   ],
   "source": [
    "#Checkng unique values of dependent variable\n",
    "training['Severity'].unique()"
   ]
  },
  {
   "cell_type": "code",
   "execution_count": 11,
   "metadata": {},
   "outputs": [],
   "source": [
    "#I feel 'Accident_Type_Code' doesn't add a lot of value to the analysis as it's a categorical representation of Accident Severity.\n",
    "training= training.drop(['Accident_Type_Code', 'Accident_ID'], axis=1)\n",
    "testing2= testing.drop(['Accident_Type_Code'], axis=1)\n"
   ]
  },
  {
   "cell_type": "code",
   "execution_count": 12,
   "metadata": {},
   "outputs": [
    {
     "name": "stdout",
     "output_type": "stream",
     "text": [
      "Shape of training data is: (10000, 10)\n",
      "Shape of testing data is: (2500, 10)\n"
     ]
    }
   ],
   "source": [
    "#Print their respective shapes\n",
    "print(\"Shape of training data is:\", training.shape)\n",
    "print(\"Shape of testing data is:\", testing2.shape)"
   ]
  },
  {
   "cell_type": "markdown",
   "metadata": {},
   "source": [
    "EDA on Training Data"
   ]
  },
  {
   "cell_type": "code",
   "execution_count": 13,
   "metadata": {},
   "outputs": [
    {
     "data": {
      "image/png": "[encoded data removed]",
      "text/plain": [
       "<Figure size 432x288 with 1 Axes>"
      ]
     },
     "metadata": {
      "needs_background": "light"
     },
     "output_type": "display_data"
    },
    {
     "data": {
      "image/png": "[encoded data removed]",
      "text/plain": [
       "<Figure size 432x288 with 1 Axes>"
      ]
     },
     "metadata": {
      "needs_background": "light"
     },
     "output_type": "display_data"
    },
    {
     "data": {
      "image/png": "[encoded data removed]",
      "text/plain": [
       "<Figure size 432x288 with 1 Axes>"
      ]
     },
     "metadata": {
      "needs_background": "light"
     },
     "output_type": "display_data"
    },
    {
     "data": {
      "image/png": "[encoded data removed]",
      "text/plain": [
       "<Figure size 432x288 with 1 Axes>"
      ]
     },
     "metadata": {
      "needs_background": "light"
     },
     "output_type": "display_data"
    },
    {
     "data": {
      "image/png": "[encoded data removed]",
      "text/plain": [
       "<Figure size 432x288 with 1 Axes>"
      ]
     },
     "metadata": {
      "needs_background": "light"
     },
     "output_type": "display_data"
    },
    {
     "data": {
      "image/png": "[encoded data removed]",
      "text/plain": [
       "<Figure size 432x288 with 1 Axes>"
      ]
     },
     "metadata": {
      "needs_background": "light"
     },
     "output_type": "display_data"
    },
    {
     "data": {
      "image/png": "[encoded data removed]",
      "text/plain": [
       "<Figure size 432x288 with 1 Axes>"
      ]
     },
     "metadata": {
      "needs_background": "light"
     },
     "output_type": "display_data"
    }
   ],
   "source": [
    "#Check for outliers\n",
    "num_df= training[['Safety_Score','Control_Metric','Turbulence_In_gforces','Cabin_Temperature','Max_Elevation','Adverse_Weather_Metric','Total_Safety_Complaints']]\n",
    "for i in num_df:\n",
    "    sns.boxplot(num_df[i])\n",
    "    plt.show()"
   ]
  },
  {
   "cell_type": "markdown",
   "metadata": {},
   "source": [
    "As can be seen from boxplots above, the data is prone to a lot of outliers especially variables like 'Total_Safety_Complaints', 'Adverse_Weather_Metric' and 'Turbulence_in_gforces'. Removing them does not make sense as it will lead to a lot of data loss.\n",
    "Let's see if we can improve the situation by transforming these variables."
   ]
  },
  {
   "cell_type": "code",
   "execution_count": 14,
   "metadata": {},
   "outputs": [
    {
     "data": {
      "text/html": [
       "<div>\n",
       "<style scoped>\n",
       "    .dataframe tbody tr th:only-of-type {\n",
       "        vertical-align: middle;\n",
       "    }\n",
       "\n",
       "    .dataframe tbody tr th {\n",
       "        vertical-align: top;\n",
       "    }\n",
       "\n",
       "    .dataframe thead th {\n",
       "        text-align: right;\n",
       "    }\n",
       "</style>\n",
       "<table border=\"1\" class=\"dataframe\">\n",
       "  <thead>\n",
       "    <tr style=\"text-align: right;\">\n",
       "      <th></th>\n",
       "      <th>Severity</th>\n",
       "      <th>Safety_Score</th>\n",
       "      <th>Days_Since_Inspection</th>\n",
       "      <th>Total_Safety_Complaints</th>\n",
       "      <th>Control_Metric</th>\n",
       "      <th>Turbulence_In_gforces</th>\n",
       "      <th>Cabin_Temperature</th>\n",
       "      <th>Max_Elevation</th>\n",
       "      <th>Violations</th>\n",
       "      <th>Adverse_Weather_Metric</th>\n",
       "    </tr>\n",
       "  </thead>\n",
       "  <tbody>\n",
       "    <tr>\n",
       "      <td>0</td>\n",
       "      <td>1</td>\n",
       "      <td>49.223744</td>\n",
       "      <td>14</td>\n",
       "      <td>22</td>\n",
       "      <td>71.285324</td>\n",
       "      <td>0.272118</td>\n",
       "      <td>78.04</td>\n",
       "      <td>31335.476824</td>\n",
       "      <td>3</td>\n",
       "      <td>0.424352</td>\n",
       "    </tr>\n",
       "    <tr>\n",
       "      <td>1</td>\n",
       "      <td>1</td>\n",
       "      <td>62.465753</td>\n",
       "      <td>10</td>\n",
       "      <td>27</td>\n",
       "      <td>72.288058</td>\n",
       "      <td>0.423939</td>\n",
       "      <td>84.54</td>\n",
       "      <td>26024.711057</td>\n",
       "      <td>2</td>\n",
       "      <td>0.352350</td>\n",
       "    </tr>\n",
       "    <tr>\n",
       "      <td>2</td>\n",
       "      <td>2</td>\n",
       "      <td>63.059361</td>\n",
       "      <td>13</td>\n",
       "      <td>16</td>\n",
       "      <td>66.362808</td>\n",
       "      <td>0.322604</td>\n",
       "      <td>78.86</td>\n",
       "      <td>39269.053927</td>\n",
       "      <td>3</td>\n",
       "      <td>0.003364</td>\n",
       "    </tr>\n",
       "    <tr>\n",
       "      <td>3</td>\n",
       "      <td>3</td>\n",
       "      <td>48.082192</td>\n",
       "      <td>11</td>\n",
       "      <td>9</td>\n",
       "      <td>74.703737</td>\n",
       "      <td>0.337029</td>\n",
       "      <td>81.79</td>\n",
       "      <td>42771.499200</td>\n",
       "      <td>1</td>\n",
       "      <td>0.211728</td>\n",
       "    </tr>\n",
       "    <tr>\n",
       "      <td>4</td>\n",
       "      <td>2</td>\n",
       "      <td>26.484018</td>\n",
       "      <td>13</td>\n",
       "      <td>25</td>\n",
       "      <td>47.948952</td>\n",
       "      <td>0.541140</td>\n",
       "      <td>77.16</td>\n",
       "      <td>35509.228515</td>\n",
       "      <td>2</td>\n",
       "      <td>0.176883</td>\n",
       "    </tr>\n",
       "  </tbody>\n",
       "</table>\n",
       "</div>"
      ],
      "text/plain": [
       "  Severity  Safety_Score  Days_Since_Inspection  Total_Safety_Complaints  \\\n",
       "0        1     49.223744                     14                       22   \n",
       "1        1     62.465753                     10                       27   \n",
       "2        2     63.059361                     13                       16   \n",
       "3        3     48.082192                     11                        9   \n",
       "4        2     26.484018                     13                       25   \n",
       "\n",
       "   Control_Metric  Turbulence_In_gforces  Cabin_Temperature  Max_Elevation  \\\n",
       "0       71.285324               0.272118              78.04   31335.476824   \n",
       "1       72.288058               0.423939              84.54   26024.711057   \n",
       "2       66.362808               0.322604              78.86   39269.053927   \n",
       "3       74.703737               0.337029              81.79   42771.499200   \n",
       "4       47.948952               0.541140              77.16   35509.228515   \n",
       "\n",
       "   Violations  Adverse_Weather_Metric  \n",
       "0           3                0.424352  \n",
       "1           2                0.352350  \n",
       "2           3                0.003364  \n",
       "3           1                0.211728  \n",
       "4           2                0.176883  "
      ]
     },
     "execution_count": 14,
     "metadata": {},
     "output_type": "execute_result"
    }
   ],
   "source": [
    "#Let's map the Dependent variable to their respective categorial dummies\n",
    "training['Severity']= training.Severity.map({'Minor_Damage_And_Injuries': '1', 'Significant_Damage_And_Fatalities': '2', 'Significant_Damage_And_Serious_Injuries': '3', 'Highly_Fatal_And_Damaging': '4'})\n",
    "training.head()"
   ]
  },
  {
   "cell_type": "code",
   "execution_count": 15,
   "metadata": {},
   "outputs": [
    {
     "data": {
      "text/plain": [
       "(array([2527.,    0.,    0., 1695.,    0.,    0., 2729.,    0.,    0.,\n",
       "        3049.]),\n",
       " array([0. , 0.3, 0.6, 0.9, 1.2, 1.5, 1.8, 2.1, 2.4, 2.7, 3. ]),\n",
       " <a list of 10 Patch objects>)"
      ]
     },
     "execution_count": 15,
     "metadata": {},
     "output_type": "execute_result"
    },
    {
     "data": {
      "image/png": "[encoded data removed]",
      "text/plain": [
       "<Figure size 432x288 with 1 Axes>"
      ]
     },
     "metadata": {
      "needs_background": "light"
     },
     "output_type": "display_data"
    }
   ],
   "source": [
    "#Check distribution of 'Severity' to see that there isn't any imbalance in the data\n",
    "plt.hist(training['Severity'])"
   ]
  },
  {
   "cell_type": "code",
   "execution_count": 16,
   "metadata": {},
   "outputs": [
    {
     "data": {
      "image/png": "[encoded data removed]",
      "text/plain": [
       "<Figure size 432x288 with 1 Axes>"
      ]
     },
     "metadata": {
      "needs_background": "light"
     },
     "output_type": "display_data"
    },
    {
     "data": {
      "image/png": "[encoded data removed]",
      "text/plain": [
       "<Figure size 432x288 with 1 Axes>"
      ]
     },
     "metadata": {
      "needs_background": "light"
     },
     "output_type": "display_data"
    },
    {
     "data": {
      "image/png": "[encoded data removed]",
      "text/plain": [
       "<Figure size 432x288 with 1 Axes>"
      ]
     },
     "metadata": {
      "needs_background": "light"
     },
     "output_type": "display_data"
    },
    {
     "data": {
      "image/png": "[encoded data removed]",
      "text/plain": [
       "<Figure size 432x288 with 1 Axes>"
      ]
     },
     "metadata": {
      "needs_background": "light"
     },
     "output_type": "display_data"
    },
    {
     "data": {
      "image/png": "[encoded data removed]",
      "text/plain": [
       "<Figure size 432x288 with 1 Axes>"
      ]
     },
     "metadata": {
      "needs_background": "light"
     },
     "output_type": "display_data"
    },
    {
     "data": {
      "image/png": "[encoded data removed]",
      "text/plain": [
       "<Figure size 432x288 with 1 Axes>"
      ]
     },
     "metadata": {
      "needs_background": "light"
     },
     "output_type": "display_data"
    },
    {
     "data": {
      "image/png": "[encoded data removed]",
      "text/plain": [
       "<Figure size 432x288 with 1 Axes>"
      ]
     },
     "metadata": {
      "needs_background": "light"
     },
     "output_type": "display_data"
    }
   ],
   "source": [
    "#Check distrubution of other variables\n",
    "for i in num_df:\n",
    "    sns.distplot(num_df[i])\n",
    "    plt.show()"
   ]
  },
  {
   "cell_type": "markdown",
   "metadata": {},
   "source": [
    "As expected, there is skewness in some variables which will require transformation. 'Safety_Score' and 'Control_Metric' are okay but the other variables will require transformation. \n",
    "1. Left skew: 'Control_Metric' shows skewness towards left and we can apply a power tranform to it.\n",
    "2. Right Skew: 'Cabin_Temperature', 'Total_Safety_Complaints', 'Adverse_Weather_Metric' and 'Turbulence_in_gforces' show skew towards right and can be fixed with a log transform.\n"
   ]
  },
  {
   "cell_type": "code",
   "execution_count": 17,
   "metadata": {},
   "outputs": [],
   "source": [
    "#Fixing the right skew\n",
    "num_df['Total_Safety_Complaints'] = np.log(num_df['Total_Safety_Complaints']+1) #+1 cause the log here takes a negative value\n",
    "num_df['Adverse_Weather_Metric'] = np.log(num_df['Adverse_Weather_Metric'])\n",
    "num_df['Cabin_Temperature'] = np.log(num_df['Cabin_Temperature'])\n",
    "num_df['Turbulence_In_gforces'] = np.log(num_df['Turbulence_In_gforces'])\n",
    "\n",
    "#Fixing left skew\n",
    "num_df['Control_Metric'] = np.power(num_df['Control_Metric'], 2)"
   ]
  },
  {
   "cell_type": "code",
   "execution_count": 18,
   "metadata": {},
   "outputs": [
    {
     "data": {
      "image/png": "[encoded data removed]",
      "text/plain": [
       "<Figure size 432x288 with 1 Axes>"
      ]
     },
     "metadata": {
      "needs_background": "light"
     },
     "output_type": "display_data"
    },
    {
     "data": {
      "image/png": "[encoded data removed]",
      "text/plain": [
       "<Figure size 432x288 with 1 Axes>"
      ]
     },
     "metadata": {
      "needs_background": "light"
     },
     "output_type": "display_data"
    },
    {
     "data": {
      "image/png": "[encoded data removed]",
      "text/plain": [
       "<Figure size 432x288 with 1 Axes>"
      ]
     },
     "metadata": {
      "needs_background": "light"
     },
     "output_type": "display_data"
    },
    {
     "data": {
      "image/png": "[encoded data removed]",
      "text/plain": [
       "<Figure size 432x288 with 1 Axes>"
      ]
     },
     "metadata": {
      "needs_background": "light"
     },
     "output_type": "display_data"
    },
    {
     "data": {
      "image/png": "[encoded data removed]",
      "text/plain": [
       "<Figure size 432x288 with 1 Axes>"
      ]
     },
     "metadata": {
      "needs_background": "light"
     },
     "output_type": "display_data"
    },
    {
     "data": {
      "image/png": "[encoded data removed]",
      "text/plain": [
       "<Figure size 432x288 with 1 Axes>"
      ]
     },
     "metadata": {
      "needs_background": "light"
     },
     "output_type": "display_data"
    },
    {
     "data": {
      "image/png": "[encoded data removed]",
      "text/plain": [
       "<Figure size 432x288 with 1 Axes>"
      ]
     },
     "metadata": {
      "needs_background": "light"
     },
     "output_type": "display_data"
    }
   ],
   "source": [
    "#Check the Distribution Again\n",
    "for i in num_df:\n",
    "    sns.distplot(num_df[i])\n",
    "    plt.show()"
   ]
  },
  {
   "cell_type": "code",
   "execution_count": 19,
   "metadata": {},
   "outputs": [
    {
     "data": {
      "image/png": "[encoded data removed]",
      "text/plain": [
       "<Figure size 1080x720 with 2 Axes>"
      ]
     },
     "metadata": {
      "needs_background": "light"
     },
     "output_type": "display_data"
    }
   ],
   "source": [
    "#Check the correlation amongst numerical variables\n",
    "plt.figure(figsize=(15,10))\n",
    "correlation= num_df.corr()\n",
    "sns.heatmap(correlation, annot= True)\n",
    "plt.show();"
   ]
  },
  {
   "cell_type": "markdown",
   "metadata": {},
   "source": [
    "No variables show worrying levels of correlation to each other except 'Control_Metric', Turbulence and 'Cabin_Temperature'. However, keeping them in the model yielded better results. Also, 0.6 is more closer to 0.5 than any extreme so i decided to keep them."
   ]
  },
  {
   "cell_type": "markdown",
   "metadata": {},
   "source": [
    "Standardization\n",
    "Since all the variables are on a different scale, it's better to put them on a common scale before putting them through any kind of model."
   ]
  },
  {
   "cell_type": "code",
   "execution_count": 20,
   "metadata": {},
   "outputs": [
    {
     "data": {
      "text/html": [
       "<div>\n",
       "<style scoped>\n",
       "    .dataframe tbody tr th:only-of-type {\n",
       "        vertical-align: middle;\n",
       "    }\n",
       "\n",
       "    .dataframe tbody tr th {\n",
       "        vertical-align: top;\n",
       "    }\n",
       "\n",
       "    .dataframe thead th {\n",
       "        text-align: right;\n",
       "    }\n",
       "</style>\n",
       "<table border=\"1\" class=\"dataframe\">\n",
       "  <thead>\n",
       "    <tr style=\"text-align: right;\">\n",
       "      <th></th>\n",
       "      <th>Safety_Score</th>\n",
       "      <th>Control_Metric</th>\n",
       "      <th>Turbulence_In_gforces</th>\n",
       "      <th>Cabin_Temperature</th>\n",
       "      <th>Max_Elevation</th>\n",
       "      <th>Adverse_Weather_Metric</th>\n",
       "      <th>Total_Safety_Complaints</th>\n",
       "      <th>Days_Since_Inspection</th>\n",
       "      <th>Violations</th>\n",
       "    </tr>\n",
       "  </thead>\n",
       "  <tbody>\n",
       "    <tr>\n",
       "      <td>0</td>\n",
       "      <td>49.223744</td>\n",
       "      <td>5081.597362</td>\n",
       "      <td>-1.301521</td>\n",
       "      <td>4.357222</td>\n",
       "      <td>31335.476824</td>\n",
       "      <td>-0.857192</td>\n",
       "      <td>3.135494</td>\n",
       "      <td>14</td>\n",
       "      <td>3</td>\n",
       "    </tr>\n",
       "    <tr>\n",
       "      <td>1</td>\n",
       "      <td>62.465753</td>\n",
       "      <td>5225.563379</td>\n",
       "      <td>-0.858166</td>\n",
       "      <td>4.437225</td>\n",
       "      <td>26024.711057</td>\n",
       "      <td>-1.043130</td>\n",
       "      <td>3.332205</td>\n",
       "      <td>10</td>\n",
       "      <td>2</td>\n",
       "    </tr>\n",
       "    <tr>\n",
       "      <td>2</td>\n",
       "      <td>63.059361</td>\n",
       "      <td>4404.022240</td>\n",
       "      <td>-1.131328</td>\n",
       "      <td>4.367674</td>\n",
       "      <td>39269.053927</td>\n",
       "      <td>-5.694652</td>\n",
       "      <td>2.833213</td>\n",
       "      <td>13</td>\n",
       "      <td>3</td>\n",
       "    </tr>\n",
       "    <tr>\n",
       "      <td>3</td>\n",
       "      <td>48.082192</td>\n",
       "      <td>5580.648391</td>\n",
       "      <td>-1.087586</td>\n",
       "      <td>4.404155</td>\n",
       "      <td>42771.499200</td>\n",
       "      <td>-1.552452</td>\n",
       "      <td>2.302585</td>\n",
       "      <td>11</td>\n",
       "      <td>1</td>\n",
       "    </tr>\n",
       "    <tr>\n",
       "      <td>4</td>\n",
       "      <td>26.484018</td>\n",
       "      <td>2299.101968</td>\n",
       "      <td>-0.614077</td>\n",
       "      <td>4.345881</td>\n",
       "      <td>35509.228515</td>\n",
       "      <td>-1.732265</td>\n",
       "      <td>3.258097</td>\n",
       "      <td>13</td>\n",
       "      <td>2</td>\n",
       "    </tr>\n",
       "  </tbody>\n",
       "</table>\n",
       "</div>"
      ],
      "text/plain": [
       "   Safety_Score  Control_Metric  Turbulence_In_gforces  Cabin_Temperature  \\\n",
       "0     49.223744     5081.597362              -1.301521           4.357222   \n",
       "1     62.465753     5225.563379              -0.858166           4.437225   \n",
       "2     63.059361     4404.022240              -1.131328           4.367674   \n",
       "3     48.082192     5580.648391              -1.087586           4.404155   \n",
       "4     26.484018     2299.101968              -0.614077           4.345881   \n",
       "\n",
       "   Max_Elevation  Adverse_Weather_Metric  Total_Safety_Complaints  \\\n",
       "0   31335.476824               -0.857192                 3.135494   \n",
       "1   26024.711057               -1.043130                 3.332205   \n",
       "2   39269.053927               -5.694652                 2.833213   \n",
       "3   42771.499200               -1.552452                 2.302585   \n",
       "4   35509.228515               -1.732265                 3.258097   \n",
       "\n",
       "   Days_Since_Inspection  Violations  \n",
       "0                     14           3  \n",
       "1                     10           2  \n",
       "2                     13           3  \n",
       "3                     11           1  \n",
       "4                     13           2  "
      ]
     },
     "execution_count": 20,
     "metadata": {},
     "output_type": "execute_result"
    }
   ],
   "source": [
    "#Let's put the entire dataset back together\n",
    "Rem= training[['Days_Since_Inspection','Violations']]\n",
    "train2= pd.concat([num_df, Rem], axis=1)\n",
    "train2.head()"
   ]
  },
  {
   "cell_type": "code",
   "execution_count": 21,
   "metadata": {},
   "outputs": [
    {
     "data": {
      "text/html": [
       "<div>\n",
       "<style scoped>\n",
       "    .dataframe tbody tr th:only-of-type {\n",
       "        vertical-align: middle;\n",
       "    }\n",
       "\n",
       "    .dataframe tbody tr th {\n",
       "        vertical-align: top;\n",
       "    }\n",
       "\n",
       "    .dataframe thead th {\n",
       "        text-align: right;\n",
       "    }\n",
       "</style>\n",
       "<table border=\"1\" class=\"dataframe\">\n",
       "  <thead>\n",
       "    <tr style=\"text-align: right;\">\n",
       "      <th></th>\n",
       "      <th>Safety_Score</th>\n",
       "      <th>Control_Metric</th>\n",
       "      <th>Turbulence_In_gforces</th>\n",
       "      <th>Cabin_Temperature</th>\n",
       "      <th>Max_Elevation</th>\n",
       "      <th>Adverse_Weather_Metric</th>\n",
       "      <th>Total_Safety_Complaints</th>\n",
       "      <th>Days_Since_Inspection</th>\n",
       "      <th>Violations</th>\n",
       "    </tr>\n",
       "  </thead>\n",
       "  <tbody>\n",
       "    <tr>\n",
       "      <td>0</td>\n",
       "      <td>0.455303</td>\n",
       "      <td>0.454029</td>\n",
       "      <td>-0.921825</td>\n",
       "      <td>-0.699846</td>\n",
       "      <td>-0.070649</td>\n",
       "      <td>0.957777</td>\n",
       "      <td>1.611091</td>\n",
       "      <td>0.301981</td>\n",
       "      <td>0.949873</td>\n",
       "    </tr>\n",
       "    <tr>\n",
       "      <td>1</td>\n",
       "      <td>1.275888</td>\n",
       "      <td>0.547877</td>\n",
       "      <td>0.492672</td>\n",
       "      <td>1.649054</td>\n",
       "      <td>-0.633736</td>\n",
       "      <td>0.861378</td>\n",
       "      <td>1.819935</td>\n",
       "      <td>-0.828082</td>\n",
       "      <td>-0.011732</td>\n",
       "    </tr>\n",
       "    <tr>\n",
       "      <td>2</td>\n",
       "      <td>1.312673</td>\n",
       "      <td>0.012333</td>\n",
       "      <td>-0.378835</td>\n",
       "      <td>-0.392957</td>\n",
       "      <td>0.770528</td>\n",
       "      <td>-1.550182</td>\n",
       "      <td>1.290165</td>\n",
       "      <td>0.019465</td>\n",
       "      <td>0.949873</td>\n",
       "    </tr>\n",
       "    <tr>\n",
       "      <td>3</td>\n",
       "      <td>0.384562</td>\n",
       "      <td>0.779349</td>\n",
       "      <td>-0.239277</td>\n",
       "      <td>0.678123</td>\n",
       "      <td>1.141883</td>\n",
       "      <td>0.597322</td>\n",
       "      <td>0.726805</td>\n",
       "      <td>-0.545566</td>\n",
       "      <td>-0.973336</td>\n",
       "    </tr>\n",
       "    <tr>\n",
       "      <td>4</td>\n",
       "      <td>-0.953841</td>\n",
       "      <td>-1.359818</td>\n",
       "      <td>1.271427</td>\n",
       "      <td>-1.032798</td>\n",
       "      <td>0.371883</td>\n",
       "      <td>0.504099</td>\n",
       "      <td>1.741256</td>\n",
       "      <td>0.019465</td>\n",
       "      <td>-0.011732</td>\n",
       "    </tr>\n",
       "  </tbody>\n",
       "</table>\n",
       "</div>"
      ],
      "text/plain": [
       "   Safety_Score  Control_Metric  Turbulence_In_gforces  Cabin_Temperature  \\\n",
       "0      0.455303        0.454029              -0.921825          -0.699846   \n",
       "1      1.275888        0.547877               0.492672           1.649054   \n",
       "2      1.312673        0.012333              -0.378835          -0.392957   \n",
       "3      0.384562        0.779349              -0.239277           0.678123   \n",
       "4     -0.953841       -1.359818               1.271427          -1.032798   \n",
       "\n",
       "   Max_Elevation  Adverse_Weather_Metric  Total_Safety_Complaints  \\\n",
       "0      -0.070649                0.957777                 1.611091   \n",
       "1      -0.633736                0.861378                 1.819935   \n",
       "2       0.770528               -1.550182                 1.290165   \n",
       "3       1.141883                0.597322                 0.726805   \n",
       "4       0.371883                0.504099                 1.741256   \n",
       "\n",
       "   Days_Since_Inspection  Violations  \n",
       "0               0.301981    0.949873  \n",
       "1              -0.828082   -0.011732  \n",
       "2               0.019465    0.949873  \n",
       "3              -0.545566   -0.973336  \n",
       "4               0.019465   -0.011732  "
      ]
     },
     "execution_count": 21,
     "metadata": {},
     "output_type": "execute_result"
    }
   ],
   "source": [
    "from sklearn import preprocessing\n",
    "scaler= preprocessing.StandardScaler()\n",
    "scaled_df= scaler.fit_transform(train2)\n",
    "scaled_df= pd.DataFrame(scaled_df, columns= ['Safety_Score', 'Control_Metric', 'Turbulence_In_gforces', 'Cabin_Temperature', 'Max_Elevation', 'Adverse_Weather_Metric', 'Total_Safety_Complaints', 'Days_Since_Inspection', 'Violations'])\n",
    "scaled_df.head()"
   ]
  },
  {
   "cell_type": "code",
   "execution_count": 22,
   "metadata": {},
   "outputs": [
    {
     "data": {
      "text/plain": [
       "Safety_Score              -3.835821e-17\n",
       "Control_Metric            -9.570122e-17\n",
       "Turbulence_In_gforces      8.358592e-17\n",
       "Cabin_Temperature          6.953149e-15\n",
       "Max_Elevation             -1.928457e-16\n",
       "Adverse_Weather_Metric    -8.411050e-17\n",
       "Total_Safety_Complaints   -4.022060e-17\n",
       "Days_Since_Inspection      5.851916e-18\n",
       "Violations                 3.470939e-17\n",
       "dtype: float64"
      ]
     },
     "execution_count": 22,
     "metadata": {},
     "output_type": "execute_result"
    }
   ],
   "source": [
    "#Let's check the mean(Should be approximtaley 0) and SD(Ideally 1) of the scaled dataframe\n",
    "scaled_df.mean()"
   ]
  },
  {
   "cell_type": "code",
   "execution_count": 23,
   "metadata": {},
   "outputs": [
    {
     "data": {
      "text/plain": [
       "Safety_Score               1.00005\n",
       "Control_Metric             1.00005\n",
       "Turbulence_In_gforces      1.00005\n",
       "Cabin_Temperature          1.00005\n",
       "Max_Elevation              1.00005\n",
       "Adverse_Weather_Metric     1.00005\n",
       "Total_Safety_Complaints    1.00005\n",
       "Days_Since_Inspection      1.00005\n",
       "Violations                 1.00005\n",
       "dtype: float64"
      ]
     },
     "execution_count": 23,
     "metadata": {},
     "output_type": "execute_result"
    }
   ],
   "source": [
    "scaled_df.std()"
   ]
  },
  {
   "cell_type": "code",
   "execution_count": 24,
   "metadata": {},
   "outputs": [
    {
     "data": {
      "image/png": "[encoded data removed]",
      "text/plain": [
       "<Figure size 1080x1080 with 2 Axes>"
      ]
     },
     "metadata": {
      "needs_background": "light"
     },
     "output_type": "display_data"
    }
   ],
   "source": [
    "#Let's check the distribution of Variables now\n",
    "fig, (ax1, ax2) = plt.subplots(ncols=2, figsize=(15, 15))\n",
    "\n",
    "ax1.set_title('Before Scaling')\n",
    "sns.kdeplot(training['Safety_Score'], ax=ax1)\n",
    "sns.kdeplot(training['Days_Since_Inspection'], ax=ax1)\n",
    "sns.kdeplot(training['Total_Safety_Complaints'], ax=ax1)\n",
    "sns.kdeplot(training['Control_Metric'], ax=ax1)\n",
    "sns.kdeplot(training['Turbulence_In_gforces'], ax=ax1)\n",
    "sns.kdeplot(training['Cabin_Temperature'], ax=ax1)\n",
    "sns.kdeplot(training['Max_Elevation'], ax=ax1)\n",
    "sns.kdeplot(training['Violations'], ax=ax1)\n",
    "sns.kdeplot(training['Adverse_Weather_Metric'], ax=ax1)\n",
    "\n",
    "\n",
    "ax2.set_title('After Standard Scaler')\n",
    "sns.kdeplot(scaled_df['Safety_Score'], ax=ax2)\n",
    "sns.kdeplot(scaled_df['Days_Since_Inspection'], ax=ax2)\n",
    "sns.kdeplot(scaled_df['Total_Safety_Complaints'], ax=ax2)\n",
    "sns.kdeplot(scaled_df['Control_Metric'], ax=ax2)\n",
    "sns.kdeplot(scaled_df['Turbulence_In_gforces'], ax=ax2)\n",
    "sns.kdeplot(scaled_df['Cabin_Temperature'], ax=ax2)\n",
    "sns.kdeplot(scaled_df['Max_Elevation'], ax=ax2)\n",
    "sns.kdeplot(scaled_df['Violations'], ax=ax2)\n",
    "sns.kdeplot(scaled_df['Adverse_Weather_Metric'], ax=ax2)\n",
    "\n",
    "plt.show()"
   ]
  },
  {
   "cell_type": "markdown",
   "metadata": {},
   "source": [
    "It's quite clear that the data is now normally distributed with a mean 0 and a standard devaition of 1.\n",
    "Let's apply the same transformation to Test Data before proceeding with Model fitting"
   ]
  },
  {
   "cell_type": "code",
   "execution_count": 25,
   "metadata": {},
   "outputs": [
    {
     "data": {
      "image/png": "[encoded data removed]",
      "text/plain": [
       "<Figure size 432x288 with 1 Axes>"
      ]
     },
     "metadata": {
      "needs_background": "light"
     },
     "output_type": "display_data"
    },
    {
     "data": {
      "image/png": "[encoded data removed]",
      "text/plain": [
       "<Figure size 432x288 with 1 Axes>"
      ]
     },
     "metadata": {
      "needs_background": "light"
     },
     "output_type": "display_data"
    },
    {
     "data": {
      "image/png": "[encoded data removed]",
      "text/plain": [
       "<Figure size 432x288 with 1 Axes>"
      ]
     },
     "metadata": {
      "needs_background": "light"
     },
     "output_type": "display_data"
    },
    {
     "data": {
      "image/png": "[encoded data removed]",
      "text/plain": [
       "<Figure size 432x288 with 1 Axes>"
      ]
     },
     "metadata": {
      "needs_background": "light"
     },
     "output_type": "display_data"
    },
    {
     "data": {
      "image/png": "[encoded data removed]",
      "text/plain": [
       "<Figure size 432x288 with 1 Axes>"
      ]
     },
     "metadata": {
      "needs_background": "light"
     },
     "output_type": "display_data"
    },
    {
     "data": {
      "image/png": "[encoded data removed]",
      "text/plain": [
       "<Figure size 432x288 with 1 Axes>"
      ]
     },
     "metadata": {
      "needs_background": "light"
     },
     "output_type": "display_data"
    },
    {
     "data": {
      "image/png": "[encoded data removed]",
      "text/plain": [
       "<Figure size 432x288 with 1 Axes>"
      ]
     },
     "metadata": {
      "needs_background": "light"
     },
     "output_type": "display_data"
    },
    {
     "data": {
      "image/png": "[encoded data removed]",
      "text/plain": [
       "<Figure size 432x288 with 1 Axes>"
      ]
     },
     "metadata": {
      "needs_background": "light"
     },
     "output_type": "display_data"
    },
    {
     "data": {
      "image/png": "[encoded data removed]",
      "text/plain": [
       "<Figure size 432x288 with 1 Axes>"
      ]
     },
     "metadata": {
      "needs_background": "light"
     },
     "output_type": "display_data"
    },
    {
     "data": {
      "image/png": "[encoded data removed]",
      "text/plain": [
       "<Figure size 432x288 with 1 Axes>"
      ]
     },
     "metadata": {
      "needs_background": "light"
     },
     "output_type": "display_data"
    }
   ],
   "source": [
    "#Transforming variables- Most variables follow the pattern of the training dataset which can be confirmed from the distributions below\n",
    "for i in testing2:\n",
    "    sns.distplot(testing2[i])\n",
    "    plt.show()"
   ]
  },
  {
   "cell_type": "code",
   "execution_count": 26,
   "metadata": {},
   "outputs": [],
   "source": [
    "#Applying transformations\n",
    "testing2['Total_Safety_Complaints'] = np.log(testing2['Total_Safety_Complaints']+1)\n",
    "testing2['Adverse_Weather_Metric'] = np.log(testing2['Adverse_Weather_Metric']+1)\n",
    "testing2['Cabin_Temperature'] = np.log(testing2['Cabin_Temperature']+1)\n",
    "testing2['Turbulence_In_gforces'] = np.log(testing2['Turbulence_In_gforces']+1)\n",
    "\n",
    "#Fixing left skew\n",
    "testing2['Control_Metric'] = np.power(testing2['Control_Metric'], 2)"
   ]
  },
  {
   "cell_type": "code",
   "execution_count": 27,
   "metadata": {},
   "outputs": [
    {
     "data": {
      "text/html": [
       "<div>\n",
       "<style scoped>\n",
       "    .dataframe tbody tr th:only-of-type {\n",
       "        vertical-align: middle;\n",
       "    }\n",
       "\n",
       "    .dataframe tbody tr th {\n",
       "        vertical-align: top;\n",
       "    }\n",
       "\n",
       "    .dataframe thead th {\n",
       "        text-align: right;\n",
       "    }\n",
       "</style>\n",
       "<table border=\"1\" class=\"dataframe\">\n",
       "  <thead>\n",
       "    <tr style=\"text-align: right;\">\n",
       "      <th></th>\n",
       "      <th>Safety_Score</th>\n",
       "      <th>Days_Since_Inspection</th>\n",
       "      <th>Total_Safety_Complaints</th>\n",
       "      <th>Control_Metric</th>\n",
       "      <th>Turbulence_In_gforces</th>\n",
       "      <th>Cabin_Temperature</th>\n",
       "      <th>Max_Elevation</th>\n",
       "      <th>Violations</th>\n",
       "      <th>Adverse_Weather_Metric</th>\n",
       "      <th>Accident_ID</th>\n",
       "    </tr>\n",
       "  </thead>\n",
       "  <tbody>\n",
       "    <tr>\n",
       "      <td>0</td>\n",
       "      <td>19.497717</td>\n",
       "      <td>16</td>\n",
       "      <td>1.945910</td>\n",
       "      <td>5205.813236</td>\n",
       "      <td>0.328554</td>\n",
       "      <td>4.373490</td>\n",
       "      <td>37949.724386</td>\n",
       "      <td>2</td>\n",
       "      <td>0.067371</td>\n",
       "      <td>1</td>\n",
       "    </tr>\n",
       "    <tr>\n",
       "      <td>1</td>\n",
       "      <td>58.173516</td>\n",
       "      <td>15</td>\n",
       "      <td>1.386294</td>\n",
       "      <td>4171.252251</td>\n",
       "      <td>0.223816</td>\n",
       "      <td>4.377014</td>\n",
       "      <td>30194.805567</td>\n",
       "      <td>2</td>\n",
       "      <td>0.002774</td>\n",
       "      <td>10</td>\n",
       "    </tr>\n",
       "    <tr>\n",
       "      <td>2</td>\n",
       "      <td>33.287671</td>\n",
       "      <td>15</td>\n",
       "      <td>1.386294</td>\n",
       "      <td>4188.933272</td>\n",
       "      <td>0.290180</td>\n",
       "      <td>4.476882</td>\n",
       "      <td>17572.925484</td>\n",
       "      <td>1</td>\n",
       "      <td>0.004307</td>\n",
       "      <td>14</td>\n",
       "    </tr>\n",
       "    <tr>\n",
       "      <td>3</td>\n",
       "      <td>3.287671</td>\n",
       "      <td>21</td>\n",
       "      <td>1.791759</td>\n",
       "      <td>4404.022240</td>\n",
       "      <td>0.351906</td>\n",
       "      <td>4.405010</td>\n",
       "      <td>40209.186341</td>\n",
       "      <td>2</td>\n",
       "      <td>0.182314</td>\n",
       "      <td>17</td>\n",
       "    </tr>\n",
       "    <tr>\n",
       "      <td>4</td>\n",
       "      <td>10.867580</td>\n",
       "      <td>18</td>\n",
       "      <td>1.098612</td>\n",
       "      <td>3148.058972</td>\n",
       "      <td>0.272488</td>\n",
       "      <td>4.384773</td>\n",
       "      <td>35495.525408</td>\n",
       "      <td>2</td>\n",
       "      <td>0.394536</td>\n",
       "      <td>21</td>\n",
       "    </tr>\n",
       "  </tbody>\n",
       "</table>\n",
       "</div>"
      ],
      "text/plain": [
       "   Safety_Score  Days_Since_Inspection  Total_Safety_Complaints  \\\n",
       "0     19.497717                     16                 1.945910   \n",
       "1     58.173516                     15                 1.386294   \n",
       "2     33.287671                     15                 1.386294   \n",
       "3      3.287671                     21                 1.791759   \n",
       "4     10.867580                     18                 1.098612   \n",
       "\n",
       "   Control_Metric  Turbulence_In_gforces  Cabin_Temperature  Max_Elevation  \\\n",
       "0     5205.813236               0.328554           4.373490   37949.724386   \n",
       "1     4171.252251               0.223816           4.377014   30194.805567   \n",
       "2     4188.933272               0.290180           4.476882   17572.925484   \n",
       "3     4404.022240               0.351906           4.405010   40209.186341   \n",
       "4     3148.058972               0.272488           4.384773   35495.525408   \n",
       "\n",
       "   Violations  Adverse_Weather_Metric  Accident_ID  \n",
       "0           2                0.067371            1  \n",
       "1           2                0.002774           10  \n",
       "2           1                0.004307           14  \n",
       "3           2                0.182314           17  \n",
       "4           2                0.394536           21  "
      ]
     },
     "execution_count": 27,
     "metadata": {},
     "output_type": "execute_result"
    }
   ],
   "source": [
    "testing2.head()"
   ]
  },
  {
   "cell_type": "code",
   "execution_count": 28,
   "metadata": {},
   "outputs": [
    {
     "data": {
      "text/html": [
       "<div>\n",
       "<style scoped>\n",
       "    .dataframe tbody tr th:only-of-type {\n",
       "        vertical-align: middle;\n",
       "    }\n",
       "\n",
       "    .dataframe tbody tr th {\n",
       "        vertical-align: top;\n",
       "    }\n",
       "\n",
       "    .dataframe thead th {\n",
       "        text-align: right;\n",
       "    }\n",
       "</style>\n",
       "<table border=\"1\" class=\"dataframe\">\n",
       "  <thead>\n",
       "    <tr style=\"text-align: right;\">\n",
       "      <th></th>\n",
       "      <th>Safety_Score</th>\n",
       "      <th>Days_Since_Inspection</th>\n",
       "      <th>Total_Safety_Complaints</th>\n",
       "      <th>Control_Metric</th>\n",
       "      <th>Turbulence_In_gforces</th>\n",
       "      <th>Cabin_Temperature</th>\n",
       "      <th>Max_Elevation</th>\n",
       "      <th>Violations</th>\n",
       "      <th>Adverse_Weather_Metric</th>\n",
       "    </tr>\n",
       "  </thead>\n",
       "  <tbody>\n",
       "    <tr>\n",
       "      <td>0</td>\n",
       "      <td>19.497717</td>\n",
       "      <td>16</td>\n",
       "      <td>1.945910</td>\n",
       "      <td>5205.813236</td>\n",
       "      <td>0.328554</td>\n",
       "      <td>4.373490</td>\n",
       "      <td>37949.724386</td>\n",
       "      <td>2</td>\n",
       "      <td>0.067371</td>\n",
       "    </tr>\n",
       "    <tr>\n",
       "      <td>1</td>\n",
       "      <td>58.173516</td>\n",
       "      <td>15</td>\n",
       "      <td>1.386294</td>\n",
       "      <td>4171.252251</td>\n",
       "      <td>0.223816</td>\n",
       "      <td>4.377014</td>\n",
       "      <td>30194.805567</td>\n",
       "      <td>2</td>\n",
       "      <td>0.002774</td>\n",
       "    </tr>\n",
       "    <tr>\n",
       "      <td>2</td>\n",
       "      <td>33.287671</td>\n",
       "      <td>15</td>\n",
       "      <td>1.386294</td>\n",
       "      <td>4188.933272</td>\n",
       "      <td>0.290180</td>\n",
       "      <td>4.476882</td>\n",
       "      <td>17572.925484</td>\n",
       "      <td>1</td>\n",
       "      <td>0.004307</td>\n",
       "    </tr>\n",
       "    <tr>\n",
       "      <td>3</td>\n",
       "      <td>3.287671</td>\n",
       "      <td>21</td>\n",
       "      <td>1.791759</td>\n",
       "      <td>4404.022240</td>\n",
       "      <td>0.351906</td>\n",
       "      <td>4.405010</td>\n",
       "      <td>40209.186341</td>\n",
       "      <td>2</td>\n",
       "      <td>0.182314</td>\n",
       "    </tr>\n",
       "    <tr>\n",
       "      <td>4</td>\n",
       "      <td>10.867580</td>\n",
       "      <td>18</td>\n",
       "      <td>1.098612</td>\n",
       "      <td>3148.058972</td>\n",
       "      <td>0.272488</td>\n",
       "      <td>4.384773</td>\n",
       "      <td>35495.525408</td>\n",
       "      <td>2</td>\n",
       "      <td>0.394536</td>\n",
       "    </tr>\n",
       "  </tbody>\n",
       "</table>\n",
       "</div>"
      ],
      "text/plain": [
       "   Safety_Score  Days_Since_Inspection  Total_Safety_Complaints  \\\n",
       "0     19.497717                     16                 1.945910   \n",
       "1     58.173516                     15                 1.386294   \n",
       "2     33.287671                     15                 1.386294   \n",
       "3      3.287671                     21                 1.791759   \n",
       "4     10.867580                     18                 1.098612   \n",
       "\n",
       "   Control_Metric  Turbulence_In_gforces  Cabin_Temperature  Max_Elevation  \\\n",
       "0     5205.813236               0.328554           4.373490   37949.724386   \n",
       "1     4171.252251               0.223816           4.377014   30194.805567   \n",
       "2     4188.933272               0.290180           4.476882   17572.925484   \n",
       "3     4404.022240               0.351906           4.405010   40209.186341   \n",
       "4     3148.058972               0.272488           4.384773   35495.525408   \n",
       "\n",
       "   Violations  Adverse_Weather_Metric  \n",
       "0           2                0.067371  \n",
       "1           2                0.002774  \n",
       "2           1                0.004307  \n",
       "3           2                0.182314  \n",
       "4           2                0.394536  "
      ]
     },
     "execution_count": 28,
     "metadata": {},
     "output_type": "execute_result"
    }
   ],
   "source": [
    "ID_Col= testing2[['Accident_ID']]\n",
    "testing_df= testing2.drop(['Accident_ID'], axis=1)\n",
    "testing_df.head()"
   ]
  },
  {
   "cell_type": "code",
   "execution_count": 29,
   "metadata": {},
   "outputs": [
    {
     "data": {
      "text/html": [
       "<div>\n",
       "<style scoped>\n",
       "    .dataframe tbody tr th:only-of-type {\n",
       "        vertical-align: middle;\n",
       "    }\n",
       "\n",
       "    .dataframe tbody tr th {\n",
       "        vertical-align: top;\n",
       "    }\n",
       "\n",
       "    .dataframe thead th {\n",
       "        text-align: right;\n",
       "    }\n",
       "</style>\n",
       "<table border=\"1\" class=\"dataframe\">\n",
       "  <thead>\n",
       "    <tr style=\"text-align: right;\">\n",
       "      <th></th>\n",
       "      <th>Safety_Score</th>\n",
       "      <th>Days_Since_Inspection</th>\n",
       "      <th>Total_Safety_Complaints</th>\n",
       "      <th>Control_Metric</th>\n",
       "      <th>Turbulence_In_gforces</th>\n",
       "      <th>Cabin_Temperature</th>\n",
       "      <th>Max_Elevation</th>\n",
       "      <th>Violations</th>\n",
       "      <th>Adverse_Weather_Metric</th>\n",
       "    </tr>\n",
       "  </thead>\n",
       "  <tbody>\n",
       "    <tr>\n",
       "      <td>0</td>\n",
       "      <td>-1.371727</td>\n",
       "      <td>0.866845</td>\n",
       "      <td>0.355919</td>\n",
       "      <td>0.542584</td>\n",
       "      <td>0.153563</td>\n",
       "      <td>-0.614333</td>\n",
       "      <td>0.586995</td>\n",
       "      <td>0.009034</td>\n",
       "      <td>-0.483246</td>\n",
       "    </tr>\n",
       "    <tr>\n",
       "      <td>1</td>\n",
       "      <td>1.004384</td>\n",
       "      <td>0.582969</td>\n",
       "      <td>-0.232222</td>\n",
       "      <td>-0.157369</td>\n",
       "      <td>-1.111490</td>\n",
       "      <td>-0.507807</td>\n",
       "      <td>-0.230758</td>\n",
       "      <td>0.009034</td>\n",
       "      <td>-0.741989</td>\n",
       "    </tr>\n",
       "    <tr>\n",
       "      <td>2</td>\n",
       "      <td>-0.524519</td>\n",
       "      <td>0.582969</td>\n",
       "      <td>-0.232222</td>\n",
       "      <td>-0.145406</td>\n",
       "      <td>-0.309925</td>\n",
       "      <td>2.511257</td>\n",
       "      <td>-1.561731</td>\n",
       "      <td>-0.972910</td>\n",
       "      <td>-0.735846</td>\n",
       "    </tr>\n",
       "    <tr>\n",
       "      <td>3</td>\n",
       "      <td>-2.367618</td>\n",
       "      <td>2.286227</td>\n",
       "      <td>0.193911</td>\n",
       "      <td>0.000116</td>\n",
       "      <td>0.435613</td>\n",
       "      <td>0.338538</td>\n",
       "      <td>0.825254</td>\n",
       "      <td>0.009034</td>\n",
       "      <td>-0.022850</td>\n",
       "    </tr>\n",
       "    <tr>\n",
       "      <td>4</td>\n",
       "      <td>-1.901934</td>\n",
       "      <td>1.434598</td>\n",
       "      <td>-0.534568</td>\n",
       "      <td>-0.849630</td>\n",
       "      <td>-0.523613</td>\n",
       "      <td>-0.273256</td>\n",
       "      <td>0.328201</td>\n",
       "      <td>0.009034</td>\n",
       "      <td>0.827197</td>\n",
       "    </tr>\n",
       "  </tbody>\n",
       "</table>\n",
       "</div>"
      ],
      "text/plain": [
       "   Safety_Score  Days_Since_Inspection  Total_Safety_Complaints  \\\n",
       "0     -1.371727               0.866845                 0.355919   \n",
       "1      1.004384               0.582969                -0.232222   \n",
       "2     -0.524519               0.582969                -0.232222   \n",
       "3     -2.367618               2.286227                 0.193911   \n",
       "4     -1.901934               1.434598                -0.534568   \n",
       "\n",
       "   Control_Metric  Turbulence_In_gforces  Cabin_Temperature  Max_Elevation  \\\n",
       "0        0.542584               0.153563          -0.614333       0.586995   \n",
       "1       -0.157369              -1.111490          -0.507807      -0.230758   \n",
       "2       -0.145406              -0.309925           2.511257      -1.561731   \n",
       "3        0.000116               0.435613           0.338538       0.825254   \n",
       "4       -0.849630              -0.523613          -0.273256       0.328201   \n",
       "\n",
       "   Violations  Adverse_Weather_Metric  \n",
       "0    0.009034               -0.483246  \n",
       "1    0.009034               -0.741989  \n",
       "2   -0.972910               -0.735846  \n",
       "3    0.009034               -0.022850  \n",
       "4    0.009034                0.827197  "
      ]
     },
     "execution_count": 29,
     "metadata": {},
     "output_type": "execute_result"
    }
   ],
   "source": [
    "#Standardization\n",
    "scaler= preprocessing.StandardScaler()\n",
    "scaled_df_test= scaler.fit_transform(testing_df)\n",
    "scaled_df_test= pd.DataFrame(scaled_df_test, columns= ['Safety_Score', 'Days_Since_Inspection','Total_Safety_Complaints', 'Control_Metric', 'Turbulence_In_gforces', 'Cabin_Temperature', 'Max_Elevation', 'Violations', 'Adverse_Weather_Metric'])\n",
    "scaled_df_test.head()"
   ]
  },
  {
   "cell_type": "code",
   "execution_count": 30,
   "metadata": {},
   "outputs": [
    {
     "data": {
      "text/html": [
       "<div>\n",
       "<style scoped>\n",
       "    .dataframe tbody tr th:only-of-type {\n",
       "        vertical-align: middle;\n",
       "    }\n",
       "\n",
       "    .dataframe tbody tr th {\n",
       "        vertical-align: top;\n",
       "    }\n",
       "\n",
       "    .dataframe thead th {\n",
       "        text-align: right;\n",
       "    }\n",
       "</style>\n",
       "<table border=\"1\" class=\"dataframe\">\n",
       "  <thead>\n",
       "    <tr style=\"text-align: right;\">\n",
       "      <th></th>\n",
       "      <th>Safety_Score</th>\n",
       "      <th>Days_Since_Inspection</th>\n",
       "      <th>Total_Safety_Complaints</th>\n",
       "      <th>Control_Metric</th>\n",
       "      <th>Turbulence_In_gforces</th>\n",
       "      <th>Cabin_Temperature</th>\n",
       "      <th>Max_Elevation</th>\n",
       "      <th>Violations</th>\n",
       "      <th>Adverse_Weather_Metric</th>\n",
       "    </tr>\n",
       "  </thead>\n",
       "  <tbody>\n",
       "    <tr>\n",
       "      <td>0</td>\n",
       "      <td>0.455303</td>\n",
       "      <td>0.301981</td>\n",
       "      <td>1.611091</td>\n",
       "      <td>0.454029</td>\n",
       "      <td>-0.921825</td>\n",
       "      <td>-0.699846</td>\n",
       "      <td>-0.070649</td>\n",
       "      <td>0.949873</td>\n",
       "      <td>0.957777</td>\n",
       "    </tr>\n",
       "    <tr>\n",
       "      <td>1</td>\n",
       "      <td>1.275888</td>\n",
       "      <td>-0.828082</td>\n",
       "      <td>1.819935</td>\n",
       "      <td>0.547877</td>\n",
       "      <td>0.492672</td>\n",
       "      <td>1.649054</td>\n",
       "      <td>-0.633736</td>\n",
       "      <td>-0.011732</td>\n",
       "      <td>0.861378</td>\n",
       "    </tr>\n",
       "    <tr>\n",
       "      <td>2</td>\n",
       "      <td>1.312673</td>\n",
       "      <td>0.019465</td>\n",
       "      <td>1.290165</td>\n",
       "      <td>0.012333</td>\n",
       "      <td>-0.378835</td>\n",
       "      <td>-0.392957</td>\n",
       "      <td>0.770528</td>\n",
       "      <td>0.949873</td>\n",
       "      <td>-1.550182</td>\n",
       "    </tr>\n",
       "    <tr>\n",
       "      <td>3</td>\n",
       "      <td>0.384562</td>\n",
       "      <td>-0.545566</td>\n",
       "      <td>0.726805</td>\n",
       "      <td>0.779349</td>\n",
       "      <td>-0.239277</td>\n",
       "      <td>0.678123</td>\n",
       "      <td>1.141883</td>\n",
       "      <td>-0.973336</td>\n",
       "      <td>0.597322</td>\n",
       "    </tr>\n",
       "    <tr>\n",
       "      <td>4</td>\n",
       "      <td>-0.953841</td>\n",
       "      <td>0.019465</td>\n",
       "      <td>1.741256</td>\n",
       "      <td>-1.359818</td>\n",
       "      <td>1.271427</td>\n",
       "      <td>-1.032798</td>\n",
       "      <td>0.371883</td>\n",
       "      <td>-0.011732</td>\n",
       "      <td>0.504099</td>\n",
       "    </tr>\n",
       "  </tbody>\n",
       "</table>\n",
       "</div>"
      ],
      "text/plain": [
       "   Safety_Score  Days_Since_Inspection  Total_Safety_Complaints  \\\n",
       "0      0.455303               0.301981                 1.611091   \n",
       "1      1.275888              -0.828082                 1.819935   \n",
       "2      1.312673               0.019465                 1.290165   \n",
       "3      0.384562              -0.545566                 0.726805   \n",
       "4     -0.953841               0.019465                 1.741256   \n",
       "\n",
       "   Control_Metric  Turbulence_In_gforces  Cabin_Temperature  Max_Elevation  \\\n",
       "0        0.454029              -0.921825          -0.699846      -0.070649   \n",
       "1        0.547877               0.492672           1.649054      -0.633736   \n",
       "2        0.012333              -0.378835          -0.392957       0.770528   \n",
       "3        0.779349              -0.239277           0.678123       1.141883   \n",
       "4       -1.359818               1.271427          -1.032798       0.371883   \n",
       "\n",
       "   Violations  Adverse_Weather_Metric  \n",
       "0    0.949873                0.957777  \n",
       "1   -0.011732                0.861378  \n",
       "2    0.949873               -1.550182  \n",
       "3   -0.973336                0.597322  \n",
       "4   -0.011732                0.504099  "
      ]
     },
     "execution_count": 30,
     "metadata": {},
     "output_type": "execute_result"
    }
   ],
   "source": [
    "#Rearrange train data\n",
    "train_df= scaled_df[['Safety_Score', 'Days_Since_Inspection','Total_Safety_Complaints', 'Control_Metric', 'Turbulence_In_gforces', 'Cabin_Temperature', 'Max_Elevation', 'Violations', 'Adverse_Weather_Metric']]\n",
    "train_df.head()"
   ]
  },
  {
   "cell_type": "code",
   "execution_count": 31,
   "metadata": {},
   "outputs": [
    {
     "data": {
      "text/html": [
       "<div>\n",
       "<style scoped>\n",
       "    .dataframe tbody tr th:only-of-type {\n",
       "        vertical-align: middle;\n",
       "    }\n",
       "\n",
       "    .dataframe tbody tr th {\n",
       "        vertical-align: top;\n",
       "    }\n",
       "\n",
       "    .dataframe thead th {\n",
       "        text-align: right;\n",
       "    }\n",
       "</style>\n",
       "<table border=\"1\" class=\"dataframe\">\n",
       "  <thead>\n",
       "    <tr style=\"text-align: right;\">\n",
       "      <th></th>\n",
       "      <th>Safety_Score</th>\n",
       "      <th>Control_Metric</th>\n",
       "      <th>Turbulence_In_gforces</th>\n",
       "      <th>Cabin_Temperature</th>\n",
       "      <th>Max_Elevation</th>\n",
       "      <th>Adverse_Weather_Metric</th>\n",
       "      <th>Total_Safety_Complaints</th>\n",
       "      <th>Days_Since_Inspection</th>\n",
       "      <th>Violations</th>\n",
       "    </tr>\n",
       "  </thead>\n",
       "  <tbody>\n",
       "    <tr>\n",
       "      <td>0</td>\n",
       "      <td>0.455303</td>\n",
       "      <td>0.454029</td>\n",
       "      <td>-0.921825</td>\n",
       "      <td>-0.699846</td>\n",
       "      <td>-0.070649</td>\n",
       "      <td>0.957777</td>\n",
       "      <td>1.611091</td>\n",
       "      <td>0.301981</td>\n",
       "      <td>0.949873</td>\n",
       "    </tr>\n",
       "    <tr>\n",
       "      <td>1</td>\n",
       "      <td>1.275888</td>\n",
       "      <td>0.547877</td>\n",
       "      <td>0.492672</td>\n",
       "      <td>1.649054</td>\n",
       "      <td>-0.633736</td>\n",
       "      <td>0.861378</td>\n",
       "      <td>1.819935</td>\n",
       "      <td>-0.828082</td>\n",
       "      <td>-0.011732</td>\n",
       "    </tr>\n",
       "    <tr>\n",
       "      <td>2</td>\n",
       "      <td>1.312673</td>\n",
       "      <td>0.012333</td>\n",
       "      <td>-0.378835</td>\n",
       "      <td>-0.392957</td>\n",
       "      <td>0.770528</td>\n",
       "      <td>-1.550182</td>\n",
       "      <td>1.290165</td>\n",
       "      <td>0.019465</td>\n",
       "      <td>0.949873</td>\n",
       "    </tr>\n",
       "    <tr>\n",
       "      <td>3</td>\n",
       "      <td>0.384562</td>\n",
       "      <td>0.779349</td>\n",
       "      <td>-0.239277</td>\n",
       "      <td>0.678123</td>\n",
       "      <td>1.141883</td>\n",
       "      <td>0.597322</td>\n",
       "      <td>0.726805</td>\n",
       "      <td>-0.545566</td>\n",
       "      <td>-0.973336</td>\n",
       "    </tr>\n",
       "    <tr>\n",
       "      <td>4</td>\n",
       "      <td>-0.953841</td>\n",
       "      <td>-1.359818</td>\n",
       "      <td>1.271427</td>\n",
       "      <td>-1.032798</td>\n",
       "      <td>0.371883</td>\n",
       "      <td>0.504099</td>\n",
       "      <td>1.741256</td>\n",
       "      <td>0.019465</td>\n",
       "      <td>-0.011732</td>\n",
       "    </tr>\n",
       "  </tbody>\n",
       "</table>\n",
       "</div>"
      ],
      "text/plain": [
       "   Safety_Score  Control_Metric  Turbulence_In_gforces  Cabin_Temperature  \\\n",
       "0      0.455303        0.454029              -0.921825          -0.699846   \n",
       "1      1.275888        0.547877               0.492672           1.649054   \n",
       "2      1.312673        0.012333              -0.378835          -0.392957   \n",
       "3      0.384562        0.779349              -0.239277           0.678123   \n",
       "4     -0.953841       -1.359818               1.271427          -1.032798   \n",
       "\n",
       "   Max_Elevation  Adverse_Weather_Metric  Total_Safety_Complaints  \\\n",
       "0      -0.070649                0.957777                 1.611091   \n",
       "1      -0.633736                0.861378                 1.819935   \n",
       "2       0.770528               -1.550182                 1.290165   \n",
       "3       1.141883                0.597322                 0.726805   \n",
       "4       0.371883                0.504099                 1.741256   \n",
       "\n",
       "   Days_Since_Inspection  Violations  \n",
       "0               0.301981    0.949873  \n",
       "1              -0.828082   -0.011732  \n",
       "2               0.019465    0.949873  \n",
       "3              -0.545566   -0.973336  \n",
       "4               0.019465   -0.011732  "
      ]
     },
     "execution_count": 31,
     "metadata": {},
     "output_type": "execute_result"
    }
   ],
   "source": [
    "#Check if it's same as original scaled dataframe\n",
    "scaled_df.head()"
   ]
  },
  {
   "cell_type": "code",
   "execution_count": 32,
   "metadata": {},
   "outputs": [],
   "source": [
    "#Put into X and y arrays\n",
    "X= train_df\n",
    "y= training['Severity']"
   ]
  },
  {
   "cell_type": "code",
   "execution_count": 33,
   "metadata": {},
   "outputs": [
    {
     "name": "stdout",
     "output_type": "stream",
     "text": [
      "shape of training data: (8000, 9) \n",
      "Shape of Validation data: (2000, 9) \n",
      "Shape of training label: (8000,) \n",
      "Shape of Validation label: (2000,)\n"
     ]
    }
   ],
   "source": [
    "#Split into train and validation sets\n",
    "X_train, X_Val, y_train, y_Val= train_test_split(X, y, test_size=0.2, random_state=50)\n",
    "print(\"shape of training data:\", X_train.shape, \"\\nShape of Validation data:\", X_Val.shape, \"\\nShape of training label:\", y_train.shape, \"\\nShape of Validation label:\", y_Val.shape)"
   ]
  },
  {
   "cell_type": "markdown",
   "metadata": {},
   "source": [
    "# Baseline Models"
   ]
  },
  {
   "cell_type": "markdown",
   "metadata": {},
   "source": [
    " We will try couple of Baseline Models like Logistic Regression, Random Forests and Naive Bayes."
   ]
  },
  {
   "cell_type": "markdown",
   "metadata": {},
   "source": [
    "# Logistic Regression"
   ]
  },
  {
   "cell_type": "code",
   "execution_count": 35,
   "metadata": {},
   "outputs": [
    {
     "name": "stdout",
     "output_type": "stream",
     "text": [
      "Accuracy: 0.591\n"
     ]
    }
   ],
   "source": [
    "from sklearn.linear_model import LogisticRegression\n",
    "from sklearn import metrics\n",
    "logreg= LogisticRegression(solver = 'lbfgs')\n",
    "\n",
    "#Fit\n",
    "logreg.fit(X_train, y_train)\n",
    "\n",
    "#Predict\n",
    "y_pred= logreg.predict(X_Val)\n",
    "\n",
    "#Accuracy\n",
    "print(\"Accuracy:\",metrics.accuracy_score(y_Val, y_pred))\n"
   ]
  },
  {
   "cell_type": "code",
   "execution_count": 36,
   "metadata": {},
   "outputs": [
    {
     "name": "stdout",
     "output_type": "stream",
     "text": [
      "Misclassified samples: 818\n",
      "Accuracy: 0.59\n"
     ]
    }
   ],
   "source": [
    "# how did our model perform?\n",
    "count_misclassified = (y_Val != y_pred).sum()\n",
    "print('Misclassified samples: {}'.format(count_misclassified))\n",
    "accuracy = metrics.accuracy_score(y_Val, y_pred)\n",
    "print('Accuracy: {:.2f}'.format(accuracy))"
   ]
  },
  {
   "cell_type": "markdown",
   "metadata": {},
   "source": [
    "# Naive Bayes  "
   ]
  },
  {
   "cell_type": "code",
   "execution_count": 37,
   "metadata": {},
   "outputs": [],
   "source": [
    "from sklearn.naive_bayes import GaussianNB\n",
    "\n",
    "#instantiate\n",
    "model= GaussianNB()\n",
    "\n",
    "#Fit\n",
    "model.fit(X_train, y_train)\n",
    "\n",
    "#predict\n",
    "predicted= model.predict(X_Val)"
   ]
  },
  {
   "cell_type": "code",
   "execution_count": 38,
   "metadata": {},
   "outputs": [
    {
     "name": "stdout",
     "output_type": "stream",
     "text": [
      "Misclassified samples: 1077\n",
      "Accuracy: 0.46\n"
     ]
    }
   ],
   "source": [
    "#Check accuracy metrics\n",
    "# how did our model perform?\n",
    "count_misclassified = (y_Val != predicted).sum()\n",
    "print('Misclassified samples: {}'.format(count_misclassified))\n",
    "accuracy = metrics.accuracy_score(y_Val, predicted)\n",
    "print('Accuracy: {:.2f}'.format(accuracy))"
   ]
  },
  {
   "cell_type": "markdown",
   "metadata": {},
   "source": [
    "# Support Vector Machine"
   ]
  },
  {
   "cell_type": "code",
   "execution_count": 39,
   "metadata": {},
   "outputs": [
    {
     "name": "stdout",
     "output_type": "stream",
     "text": [
      "accuracy is: 0.5635\n"
     ]
    }
   ],
   "source": [
    "from sklearn.svm import LinearSVC\n",
    "\n",
    "#Instantiate\n",
    "svc= LinearSVC()\n",
    "\n",
    "#Fit\n",
    "svc.fit(X_train, y_train)\n",
    "\n",
    "#predict\n",
    "predicted= svc.predict(X_Val)\n",
    "\n",
    "#Accuracy\n",
    "print(\"accuracy is:\", metrics.accuracy_score(y_Val, predicted ))"
   ]
  },
  {
   "cell_type": "code",
   "execution_count": 42,
   "metadata": {},
   "outputs": [
    {
     "name": "stdout",
     "output_type": "stream",
     "text": [
      "Misclassified samples: 873\n",
      "Accuracy: 0.56\n"
     ]
    }
   ],
   "source": [
    "count_misclassified = (y_Val != predicted).sum()\n",
    "print('Misclassified samples: {}'.format(count_misclassified))\n",
    "accuracy = metrics.accuracy_score(y_Val, predicted)\n",
    "print('Accuracy: {:.2f}'.format(accuracy))"
   ]
  },
  {
   "cell_type": "markdown",
   "metadata": {},
   "source": [
    "I also tried grid search for all the above algortihms and got the best results with Support Vector Machines. so, in the end, I decided to train the model with an SVM."
   ]
  },
  {
   "cell_type": "markdown",
   "metadata": {},
   "source": [
    "# Model Fitting- Support Vector Machine (SVM)\n"
   ]
  },
  {
   "cell_type": "markdown",
   "metadata": {},
   "source": [
    "Let's try a grid Search to get the best parameters for the SVM. "
   ]
  },
  {
   "cell_type": "code",
   "execution_count": 43,
   "metadata": {},
   "outputs": [
    {
     "data": {
      "text/plain": [
       "GridSearchCV(cv='warn', error_score='raise-deprecating',\n",
       "             estimator=SVC(C=1.0, cache_size=200, class_weight=None, coef0=0.0,\n",
       "                           decision_function_shape='ovr', degree=3,\n",
       "                           gamma='auto_deprecated', kernel='rbf', max_iter=-1,\n",
       "                           probability=False, random_state=None, shrinking=True,\n",
       "                           tol=0.001, verbose=False),\n",
       "             iid='warn', n_jobs=None,\n",
       "             param_grid={'C': [0.1, 1, 10, 50, 100],\n",
       "                         'gamma': [1, 0.1, 0.001, 0.0001],\n",
       "                         'kernel': ['rbf', 'linear']},\n",
       "             pre_dispatch='2*n_jobs', refit=True, return_train_score=False,\n",
       "             scoring=None, verbose=0)"
      ]
     },
     "execution_count": 43,
     "metadata": {},
     "output_type": "execute_result"
    }
   ],
   "source": [
    "from sklearn.svm import SVC\n",
    "from sklearn.model_selection import GridSearchCV\n",
    "model= SVC()\n",
    "params= { 'C': [0.1, 1, 10, 50, 100], 'gamma': [1, 0.1, 0.001, 0.0001], 'kernel': ['rbf', 'linear']}\n",
    "gridsvm= GridSearchCV(model, params)\n",
    "gridsvm.fit(X_train, y_train)"
   ]
  },
  {
   "cell_type": "code",
   "execution_count": 44,
   "metadata": {},
   "outputs": [
    {
     "name": "stdout",
     "output_type": "stream",
     "text": [
      "0.89425\n",
      "SVC(C=10, cache_size=200, class_weight=None, coef0=0.0,\n",
      "    decision_function_shape='ovr', degree=3, gamma=0.1, kernel='rbf',\n",
      "    max_iter=-1, probability=False, random_state=None, shrinking=True,\n",
      "    tol=0.001, verbose=False)\n"
     ]
    }
   ],
   "source": [
    "print(gridsvm.best_score_)\n",
    "print(gridsvm.best_estimator_)"
   ]
  },
  {
   "cell_type": "markdown",
   "metadata": {},
   "source": [
    "This took some time to run. But with the parameters obtained, I was able to run an SVM model on the training data and check it against the validation set."
   ]
  },
  {
   "cell_type": "code",
   "execution_count": 45,
   "metadata": {},
   "outputs": [
    {
     "data": {
      "text/plain": [
       "SVC(C=10, cache_size=200, class_weight=None, coef0=0.0,\n",
       "    decision_function_shape='ovr', degree=3, gamma=0.1, kernel='rbf',\n",
       "    max_iter=-1, probability=False, random_state=None, shrinking=True,\n",
       "    tol=0.001, verbose=False)"
      ]
     },
     "execution_count": 45,
     "metadata": {},
     "output_type": "execute_result"
    }
   ],
   "source": [
    "clfsvm= SVC(C=10, cache_size=200, class_weight=None, coef0=0.0,\n",
    "    decision_function_shape='ovr', degree=3, gamma=0.1, kernel='rbf',\n",
    "    max_iter=-1, probability=False, random_state=None, shrinking=True,\n",
    "    tol=0.001, verbose=False)\n",
    "clfsvm.fit(X_train, y_train)"
   ]
  },
  {
   "cell_type": "code",
   "execution_count": 47,
   "metadata": {},
   "outputs": [],
   "source": [
    "#Predict on Validation Set\n",
    "predsvm= clfsvm.predict(X_Val)"
   ]
  },
  {
   "cell_type": "code",
   "execution_count": 49,
   "metadata": {},
   "outputs": [
    {
     "name": "stdout",
     "output_type": "stream",
     "text": [
      "Accuracy with RFC is: 0.9145\n",
      "F1 score is: 0.9145\n"
     ]
    }
   ],
   "source": [
    "#Print Accuracy and Micro F1 Score\n",
    "from sklearn import metrics\n",
    "print(\"Accuracy with RFC is:\",metrics.accuracy_score(y_Val, predsvm))\n",
    "print(\"F1 score is:\", metrics.f1_score(y_Val, predsvm, average= 'micro'))"
   ]
  },
  {
   "cell_type": "code",
   "execution_count": 50,
   "metadata": {},
   "outputs": [
    {
     "data": {
      "text/plain": [
       "array([[468,   0,  16,   7],\n",
       "       [  2, 316,   7,  15],\n",
       "       [ 26,  10, 468,  13],\n",
       "       [ 34,  21,  20, 577]], dtype=int64)"
      ]
     },
     "execution_count": 50,
     "metadata": {},
     "output_type": "execute_result"
    }
   ],
   "source": [
    "#Print the Confusion Matrix\n",
    "cnf_matrix = metrics.confusion_matrix(y_Val, predsvm)\n",
    "cnf_matrix"
   ]
  },
  {
   "cell_type": "code",
   "execution_count": 51,
   "metadata": {},
   "outputs": [
    {
     "data": {
      "text/plain": [
       "Text(33.0, 0.5, 'Actual label')"
      ]
     },
     "execution_count": 51,
     "metadata": {},
     "output_type": "execute_result"
    },
    {
     "data": {
      "image/png": "[encoded data removed]",
      "text/plain": [
       "<Figure size 432x288 with 2 Axes>"
      ]
     },
     "metadata": {
      "needs_background": "light"
     },
     "output_type": "display_data"
    }
   ],
   "source": [
    "#Plot the Confusion Matrix\n",
    "class_names=[0,1,2,3] # name  of classes\n",
    "fig, ax = plt.subplots()\n",
    "tick_marks = np.arange(len(class_names))\n",
    "plt.xticks(tick_marks, class_names)\n",
    "plt.yticks(tick_marks, class_names)\n",
    "# create heatmap\n",
    "sns.heatmap(pd.DataFrame(cnf_matrix), annot=True, cmap=\"YlGnBu\" ,fmt='g')\n",
    "ax.xaxis.set_label_position(\"top\")\n",
    "plt.tight_layout()\n",
    "plt.title('Confusion matrix', y=1.1)\n",
    "plt.xlabel(\"Predicted Label\")\n",
    "plt.ylabel('Actual label')"
   ]
  },
  {
   "cell_type": "code",
   "execution_count": 52,
   "metadata": {},
   "outputs": [
    {
     "name": "stdout",
     "output_type": "stream",
     "text": [
      "              precision    recall  f1-score   support\n",
      "\n",
      "           1       0.88      0.95      0.92       491\n",
      "           2       0.91      0.93      0.92       340\n",
      "           3       0.92      0.91      0.91       517\n",
      "           4       0.94      0.88      0.91       652\n",
      "\n",
      "    accuracy                           0.91      2000\n",
      "   macro avg       0.91      0.92      0.92      2000\n",
      "weighted avg       0.92      0.91      0.91      2000\n",
      "\n"
     ]
    }
   ],
   "source": [
    "#Check the classification Report\n",
    "classification_report= metrics.classification_report(y_Val, predsvm)\n",
    "print(classification_report)"
   ]
  },
  {
   "cell_type": "code",
   "execution_count": 53,
   "metadata": {},
   "outputs": [],
   "source": [
    "#Predict on Test Dataset\n",
    "predictions= clfsvm.predict(scaled_df_test)"
   ]
  },
  {
   "cell_type": "code",
   "execution_count": 54,
   "metadata": {},
   "outputs": [
    {
     "data": {
      "text/plain": [
       "array(['4', '2', '3', ..., '3', '3', '4'], dtype=object)"
      ]
     },
     "execution_count": 54,
     "metadata": {},
     "output_type": "execute_result"
    }
   ],
   "source": [
    "predictions"
   ]
  },
  {
   "cell_type": "code",
   "execution_count": 55,
   "metadata": {},
   "outputs": [
    {
     "data": {
      "text/plain": [
       "(2500,)"
      ]
     },
     "execution_count": 55,
     "metadata": {},
     "output_type": "execute_result"
    }
   ],
   "source": [
    "predictions.shape"
   ]
  },
  {
   "cell_type": "code",
   "execution_count": 56,
   "metadata": {},
   "outputs": [],
   "source": [
    "submission = pd.DataFrame({\n",
    "        \"Accident_ID\": ID_Col[\"Accident_ID\"],\n",
    "        \"Severity\": predictions\n",
    "    })"
   ]
  },
  {
   "cell_type": "code",
   "execution_count": 57,
   "metadata": {},
   "outputs": [
    {
     "data": {
      "text/html": [
       "<div>\n",
       "<style scoped>\n",
       "    .dataframe tbody tr th:only-of-type {\n",
       "        vertical-align: middle;\n",
       "    }\n",
       "\n",
       "    .dataframe tbody tr th {\n",
       "        vertical-align: top;\n",
       "    }\n",
       "\n",
       "    .dataframe thead th {\n",
       "        text-align: right;\n",
       "    }\n",
       "</style>\n",
       "<table border=\"1\" class=\"dataframe\">\n",
       "  <thead>\n",
       "    <tr style=\"text-align: right;\">\n",
       "      <th></th>\n",
       "      <th>Accident_ID</th>\n",
       "      <th>Severity</th>\n",
       "    </tr>\n",
       "  </thead>\n",
       "  <tbody>\n",
       "    <tr>\n",
       "      <td>0</td>\n",
       "      <td>1</td>\n",
       "      <td>4</td>\n",
       "    </tr>\n",
       "    <tr>\n",
       "      <td>1</td>\n",
       "      <td>10</td>\n",
       "      <td>2</td>\n",
       "    </tr>\n",
       "    <tr>\n",
       "      <td>2</td>\n",
       "      <td>14</td>\n",
       "      <td>3</td>\n",
       "    </tr>\n",
       "    <tr>\n",
       "      <td>3</td>\n",
       "      <td>17</td>\n",
       "      <td>4</td>\n",
       "    </tr>\n",
       "    <tr>\n",
       "      <td>4</td>\n",
       "      <td>21</td>\n",
       "      <td>2</td>\n",
       "    </tr>\n",
       "  </tbody>\n",
       "</table>\n",
       "</div>"
      ],
      "text/plain": [
       "   Accident_ID Severity\n",
       "0            1        4\n",
       "1           10        2\n",
       "2           14        3\n",
       "3           17        4\n",
       "4           21        2"
      ]
     },
     "execution_count": 57,
     "metadata": {},
     "output_type": "execute_result"
    }
   ],
   "source": [
    "submission.head()"
   ]
  },
  {
   "cell_type": "code",
   "execution_count": 58,
   "metadata": {},
   "outputs": [
    {
     "data": {
      "text/html": [
       "<div>\n",
       "<style scoped>\n",
       "    .dataframe tbody tr th:only-of-type {\n",
       "        vertical-align: middle;\n",
       "    }\n",
       "\n",
       "    .dataframe tbody tr th {\n",
       "        vertical-align: top;\n",
       "    }\n",
       "\n",
       "    .dataframe thead th {\n",
       "        text-align: right;\n",
       "    }\n",
       "</style>\n",
       "<table border=\"1\" class=\"dataframe\">\n",
       "  <thead>\n",
       "    <tr style=\"text-align: right;\">\n",
       "      <th></th>\n",
       "      <th>Accident_ID</th>\n",
       "      <th>Severity</th>\n",
       "    </tr>\n",
       "  </thead>\n",
       "  <tbody>\n",
       "    <tr>\n",
       "      <td>0</td>\n",
       "      <td>1</td>\n",
       "      <td>Highly_Fatal_And_Damaging</td>\n",
       "    </tr>\n",
       "    <tr>\n",
       "      <td>1</td>\n",
       "      <td>10</td>\n",
       "      <td>Significant_Damage_And_Fatalities</td>\n",
       "    </tr>\n",
       "    <tr>\n",
       "      <td>2</td>\n",
       "      <td>14</td>\n",
       "      <td>Significant_Damage_And_Serious_Injuries</td>\n",
       "    </tr>\n",
       "    <tr>\n",
       "      <td>3</td>\n",
       "      <td>17</td>\n",
       "      <td>Highly_Fatal_And_Damaging</td>\n",
       "    </tr>\n",
       "    <tr>\n",
       "      <td>4</td>\n",
       "      <td>21</td>\n",
       "      <td>Significant_Damage_And_Fatalities</td>\n",
       "    </tr>\n",
       "  </tbody>\n",
       "</table>\n",
       "</div>"
      ],
      "text/plain": [
       "   Accident_ID                                 Severity\n",
       "0            1                Highly_Fatal_And_Damaging\n",
       "1           10        Significant_Damage_And_Fatalities\n",
       "2           14  Significant_Damage_And_Serious_Injuries\n",
       "3           17                Highly_Fatal_And_Damaging\n",
       "4           21        Significant_Damage_And_Fatalities"
      ]
     },
     "execution_count": 58,
     "metadata": {},
     "output_type": "execute_result"
    }
   ],
   "source": [
    "#Convert Severity Dummy values to their respective Categories\n",
    "submission['Severity']= submission.Severity.map({'1': 'Minor_Damage_And_Injuries', '2':'Significant_Damage_And_Fatalities', '3':'Significant_Damage_And_Serious_Injuries',  '4': 'Highly_Fatal_And_Damaging'})\n",
    "submission.head()"
   ]
  },
  {
   "cell_type": "code",
   "execution_count": 59,
   "metadata": {},
   "outputs": [],
   "source": [
    "#Save submission file to a csv\n",
    "submission.to_csv('submission_svm.csv', index=False)"
   ]
  },
  {
   "cell_type": "markdown",
   "metadata": {},
   "source": [
    "# Neural Network"
   ]
  },
  {
   "cell_type": "code",
   "execution_count": 60,
   "metadata": {},
   "outputs": [
    {
     "name": "stderr",
     "output_type": "stream",
     "text": [
      "Using TensorFlow backend.\n"
     ]
    }
   ],
   "source": [
    "import keras\n",
    "from keras.models import Sequential\n",
    "from keras.layers import Dense"
   ]
  },
  {
   "cell_type": "code",
   "execution_count": 61,
   "metadata": {},
   "outputs": [
    {
     "name": "stdout",
     "output_type": "stream",
     "text": [
      "(10000, 9)\n",
      "(10000, 4)\n"
     ]
    }
   ],
   "source": [
    "#Make dummies for Y train variable\n",
    "y= pd.get_dummies(y)\n",
    "\n",
    "print(X.shape)\n",
    "print(y.shape)"
   ]
  },
  {
   "cell_type": "code",
   "execution_count": 62,
   "metadata": {},
   "outputs": [
    {
     "name": "stdout",
     "output_type": "stream",
     "text": [
      "shape of training data: (8000, 9) \n",
      "Shape of Validation data: (2000, 9) \n",
      "Shape of training label: (8000, 4) \n",
      "Shape of Validation label: (2000, 4)\n"
     ]
    }
   ],
   "source": [
    "#Split into train and validation sets\n",
    "X_train, X_Val, y_train, y_Val= train_test_split(X, y, test_size=0.2, random_state=20)\n",
    "print(\"shape of training data:\", X_train.shape, \"\\nShape of Validation data:\", X_Val.shape, \"\\nShape of training label:\", y_train.shape, \"\\nShape of Validation label:\", y_Val.shape)\n"
   ]
  },
  {
   "cell_type": "code",
   "execution_count": 63,
   "metadata": {},
   "outputs": [],
   "source": [
    "#Instantiate the Model\n",
    "model= Sequential()\n",
    "model.add(Dense(16, input_dim=9, activation= 'relu'))\n",
    "model.add(Dense(8, activation= 'relu'))\n",
    "model.add(Dense(4, activation= 'softmax'))\n"
   ]
  },
  {
   "cell_type": "code",
   "execution_count": 64,
   "metadata": {},
   "outputs": [
    {
     "name": "stdout",
     "output_type": "stream",
     "text": [
      "Epoch 1/100\n",
      "8000/8000 [==============================] - 1s 131us/step - loss: 1.2679 - accuracy: 0.4351\n",
      "Epoch 2/100\n",
      "8000/8000 [==============================] - 1s 154us/step - loss: 0.8268 - accuracy: 0.7113\n",
      "Epoch 3/100\n",
      "8000/8000 [==============================] - 2s 249us/step - loss: 0.5386 - accuracy: 0.8242\n",
      "Epoch 4/100\n",
      "8000/8000 [==============================] - 2s 218us/step - loss: 0.4132 - accuracy: 0.8641\n",
      "Epoch 5/100\n",
      "8000/8000 [==============================] - 1s 119us/step - loss: 0.3526 - accuracy: 0.8800\n",
      "Epoch 6/100\n",
      "8000/8000 [==============================] - 1s 129us/step - loss: 0.3205 - accuracy: 0.8921\n",
      "Epoch 7/100\n",
      "8000/8000 [==============================] - 1s 138us/step - loss: 0.3005 - accuracy: 0.9049\n",
      "Epoch 8/100\n",
      "8000/8000 [==============================] - 2s 228us/step - loss: 0.2862 - accuracy: 0.9133\n",
      "Epoch 9/100\n",
      "8000/8000 [==============================] - 2s 208us/step - loss: 0.2719 - accuracy: 0.9202\n",
      "Epoch 10/100\n",
      "8000/8000 [==============================] - 1s 185us/step - loss: 0.2618 - accuracy: 0.9225\n",
      "Epoch 11/100\n",
      "8000/8000 [==============================] - 2s 290us/step - loss: 0.2528 - accuracy: 0.9280\n",
      "Epoch 12/100\n",
      "8000/8000 [==============================] - 1s 168us/step - loss: 0.2444 - accuracy: 0.9291\n",
      "Epoch 13/100\n",
      "8000/8000 [==============================] - 2s 249us/step - loss: 0.2396 - accuracy: 0.9295\n",
      "Epoch 14/100\n",
      "8000/8000 [==============================] - 1s 122us/step - loss: 0.2320 - accuracy: 0.9336\n",
      "Epoch 15/100\n",
      "8000/8000 [==============================] - 1s 97us/step - loss: 0.2281 - accuracy: 0.9327\n",
      "Epoch 16/100\n",
      "8000/8000 [==============================] - 1s 95us/step - loss: 0.2251 - accuracy: 0.9325\n",
      "Epoch 17/100\n",
      "8000/8000 [==============================] - 1s 144us/step - loss: 0.2191 - accuracy: 0.9348\n",
      "Epoch 18/100\n",
      "8000/8000 [==============================] - 2s 213us/step - loss: 0.2172 - accuracy: 0.9333\n",
      "Epoch 19/100\n",
      "8000/8000 [==============================] - 2s 189us/step - loss: 0.2139 - accuracy: 0.9351\n",
      "Epoch 20/100\n",
      "8000/8000 [==============================] - 1s 118us/step - loss: 0.2114 - accuracy: 0.9355\n",
      "Epoch 21/100\n",
      "8000/8000 [==============================] - 2s 192us/step - loss: 0.2083 - accuracy: 0.9367\n",
      "Epoch 22/100\n",
      "8000/8000 [==============================] - 1s 143us/step - loss: 0.2065 - accuracy: 0.9369\n",
      "Epoch 23/100\n",
      "8000/8000 [==============================] - 1s 165us/step - loss: 0.2049 - accuracy: 0.9365\n",
      "Epoch 24/100\n",
      "8000/8000 [==============================] - 2s 301us/step - loss: 0.2014 - accuracy: 0.9389\n",
      "Epoch 25/100\n",
      "8000/8000 [==============================] - 2s 229us/step - loss: 0.1995 - accuracy: 0.9376\n",
      "Epoch 26/100\n",
      "8000/8000 [==============================] - 2s 207us/step - loss: 0.1978 - accuracy: 0.9359\n",
      "Epoch 27/100\n",
      "8000/8000 [==============================] - 2s 241us/step - loss: 0.1979 - accuracy: 0.9379\n",
      "Epoch 28/100\n",
      "8000/8000 [==============================] - 2s 195us/step - loss: 0.1960 - accuracy: 0.9376\n",
      "Epoch 29/100\n",
      "8000/8000 [==============================] - 2s 231us/step - loss: 0.1935 - accuracy: 0.9380\n",
      "Epoch 30/100\n",
      "8000/8000 [==============================] - 3s 327us/step - loss: 0.1940 - accuracy: 0.9375\n",
      "Epoch 31/100\n",
      "8000/8000 [==============================] - 2s 227us/step - loss: 0.1920 - accuracy: 0.9383\n",
      "Epoch 32/100\n",
      "8000/8000 [==============================] - 1s 115us/step - loss: 0.1907 - accuracy: 0.9386\n",
      "Epoch 33/100\n",
      "8000/8000 [==============================] - 1s 107us/step - loss: 0.1897 - accuracy: 0.9391\n",
      "Epoch 34/100\n",
      "8000/8000 [==============================] - 1s 100us/step - loss: 0.1883 - accuracy: 0.9389\n",
      "Epoch 35/100\n",
      "8000/8000 [==============================] - 1s 106us/step - loss: 0.1889 - accuracy: 0.9377\n",
      "Epoch 36/100\n",
      "8000/8000 [==============================] - 1s 137us/step - loss: 0.1870 - accuracy: 0.9389\n",
      "Epoch 37/100\n",
      "8000/8000 [==============================] - 1s 155us/step - loss: 0.1859 - accuracy: 0.9401\n",
      "Epoch 38/100\n",
      "8000/8000 [==============================] - 1s 150us/step - loss: 0.1850 - accuracy: 0.9401\n",
      "Epoch 39/100\n",
      "8000/8000 [==============================] - 2s 259us/step - loss: 0.1847 - accuracy: 0.9406\n",
      "Epoch 40/100\n",
      "8000/8000 [==============================] - 1s 133us/step - loss: 0.1821 - accuracy: 0.9402\n",
      "Epoch 41/100\n",
      "8000/8000 [==============================] - 1s 175us/step - loss: 0.1833 - accuracy: 0.9406\n",
      "Epoch 42/100\n",
      "8000/8000 [==============================] - 1s 141us/step - loss: 0.1814 - accuracy: 0.9416\n",
      "Epoch 43/100\n",
      "8000/8000 [==============================] - 1s 166us/step - loss: 0.1821 - accuracy: 0.9406\n",
      "Epoch 44/100\n",
      "8000/8000 [==============================] - 1s 122us/step - loss: 0.1799 - accuracy: 0.9369\n",
      "Epoch 45/100\n",
      "8000/8000 [==============================] - 1s 154us/step - loss: 0.1792 - accuracy: 0.9421\n",
      "Epoch 46/100\n",
      "8000/8000 [==============================] - 1s 122us/step - loss: 0.1797 - accuracy: 0.9409\n",
      "Epoch 47/100\n",
      "8000/8000 [==============================] - 1s 178us/step - loss: 0.1789 - accuracy: 0.9417\n",
      "Epoch 48/100\n",
      "8000/8000 [==============================] - 1s 157us/step - loss: 0.1793 - accuracy: 0.9415\n",
      "Epoch 49/100\n",
      "8000/8000 [==============================] - 1s 156us/step - loss: 0.1780 - accuracy: 0.9411\n",
      "Epoch 50/100\n",
      "8000/8000 [==============================] - 2s 190us/step - loss: 0.1771 - accuracy: 0.9419\n",
      "Epoch 51/100\n",
      "8000/8000 [==============================] - 1s 103us/step - loss: 0.1780 - accuracy: 0.9411\n",
      "Epoch 52/100\n",
      "8000/8000 [==============================] - 1s 100us/step - loss: 0.1768 - accuracy: 0.9413\n",
      "Epoch 53/100\n",
      "8000/8000 [==============================] - 1s 150us/step - loss: 0.1779 - accuracy: 0.94160s - l\n",
      "Epoch 54/100\n",
      "8000/8000 [==============================] - 1s 122us/step - loss: 0.1761 - accuracy: 0.9414\n",
      "Epoch 55/100\n",
      "8000/8000 [==============================] - 1s 113us/step - loss: 0.1770 - accuracy: 0.9423\n",
      "Epoch 56/100\n",
      "8000/8000 [==============================] - 1s 150us/step - loss: 0.1774 - accuracy: 0.9419\n",
      "Epoch 57/100\n",
      "8000/8000 [==============================] - 1s 167us/step - loss: 0.1757 - accuracy: 0.9402\n",
      "Epoch 58/100\n",
      "8000/8000 [==============================] - 1s 138us/step - loss: 0.1745 - accuracy: 0.9425\n",
      "Epoch 59/100\n",
      "8000/8000 [==============================] - 1s 124us/step - loss: 0.1743 - accuracy: 0.9423\n",
      "Epoch 60/100\n",
      "8000/8000 [==============================] - 1s 151us/step - loss: 0.1746 - accuracy: 0.9417\n",
      "Epoch 61/100\n",
      "8000/8000 [==============================] - 1s 154us/step - loss: 0.1749 - accuracy: 0.94260s - loss: 0.178\n",
      "Epoch 62/100\n",
      "8000/8000 [==============================] - 1s 124us/step - loss: 0.1729 - accuracy: 0.9424\n",
      "Epoch 63/100\n",
      "8000/8000 [==============================] - 1s 123us/step - loss: 0.1749 - accuracy: 0.9426\n",
      "Epoch 64/100\n",
      "8000/8000 [==============================] - 1s 122us/step - loss: 0.1733 - accuracy: 0.9415\n",
      "Epoch 65/100\n",
      "8000/8000 [==============================] - 1s 131us/step - loss: 0.1716 - accuracy: 0.9431\n",
      "Epoch 66/100\n",
      "8000/8000 [==============================] - 1s 184us/step - loss: 0.1727 - accuracy: 0.9440\n",
      "Epoch 67/100\n",
      "8000/8000 [==============================] - 2s 272us/step - loss: 0.1726 - accuracy: 0.9442\n",
      "Epoch 68/100\n",
      "8000/8000 [==============================] - 2s 256us/step - loss: 0.1714 - accuracy: 0.9426\n",
      "Epoch 69/100\n",
      "8000/8000 [==============================] - 1s 159us/step - loss: 0.1721 - accuracy: 0.9427\n",
      "Epoch 70/100\n",
      "8000/8000 [==============================] - 1s 134us/step - loss: 0.1707 - accuracy: 0.9416\n",
      "Epoch 71/100\n",
      "8000/8000 [==============================] - 1s 125us/step - loss: 0.1717 - accuracy: 0.9440\n",
      "Epoch 72/100\n",
      "8000/8000 [==============================] - 1s 171us/step - loss: 0.1704 - accuracy: 0.9434\n",
      "Epoch 73/100\n",
      "8000/8000 [==============================] - 2s 228us/step - loss: 0.1711 - accuracy: 0.9424\n",
      "Epoch 74/100\n",
      "8000/8000 [==============================] - 2s 233us/step - loss: 0.1699 - accuracy: 0.9448\n",
      "Epoch 75/100\n",
      "8000/8000 [==============================] - 2s 202us/step - loss: 0.1721 - accuracy: 0.9426\n",
      "Epoch 76/100\n",
      "8000/8000 [==============================] - 2s 193us/step - loss: 0.1713 - accuracy: 0.9448\n",
      "Epoch 77/100\n",
      "8000/8000 [==============================] - 1s 150us/step - loss: 0.1692 - accuracy: 0.9435\n",
      "Epoch 78/100\n"
     ]
    },
    {
     "name": "stdout",
     "output_type": "stream",
     "text": [
      "8000/8000 [==============================] - 1s 144us/step - loss: 0.1711 - accuracy: 0.9438\n",
      "Epoch 79/100\n",
      "8000/8000 [==============================] - 1s 145us/step - loss: 0.1700 - accuracy: 0.9445\n",
      "Epoch 80/100\n",
      "8000/8000 [==============================] - 1s 148us/step - loss: 0.1698 - accuracy: 0.9440\n",
      "Epoch 81/100\n",
      "8000/8000 [==============================] - 1s 148us/step - loss: 0.1679 - accuracy: 0.9440\n",
      "Epoch 82/100\n",
      "8000/8000 [==============================] - 1s 122us/step - loss: 0.1684 - accuracy: 0.9455\n",
      "Epoch 83/100\n",
      "8000/8000 [==============================] - 1s 119us/step - loss: 0.1693 - accuracy: 0.9438\n",
      "Epoch 84/100\n",
      "8000/8000 [==============================] - 2s 188us/step - loss: 0.1690 - accuracy: 0.9435\n",
      "Epoch 85/100\n",
      "8000/8000 [==============================] - 2s 231us/step - loss: 0.1699 - accuracy: 0.9451\n",
      "Epoch 86/100\n",
      "8000/8000 [==============================] - 2s 207us/step - loss: 0.1674 - accuracy: 0.9439\n",
      "Epoch 87/100\n",
      "8000/8000 [==============================] - 2s 229us/step - loss: 0.1672 - accuracy: 0.9441\n",
      "Epoch 88/100\n",
      "8000/8000 [==============================] - 2s 301us/step - loss: 0.1694 - accuracy: 0.94400s - loss: 0.169\n",
      "Epoch 89/100\n",
      "8000/8000 [==============================] - 1s 166us/step - loss: 0.1685 - accuracy: 0.9451\n",
      "Epoch 90/100\n",
      "8000/8000 [==============================] - 1s 154us/step - loss: 0.1696 - accuracy: 0.9438\n",
      "Epoch 91/100\n",
      "8000/8000 [==============================] - 1s 171us/step - loss: 0.1682 - accuracy: 0.9444\n",
      "Epoch 92/100\n",
      "8000/8000 [==============================] - 1s 116us/step - loss: 0.1675 - accuracy: 0.9444\n",
      "Epoch 93/100\n",
      "8000/8000 [==============================] - 1s 117us/step - loss: 0.1682 - accuracy: 0.9434\n",
      "Epoch 94/100\n",
      "8000/8000 [==============================] - 1s 108us/step - loss: 0.1661 - accuracy: 0.9449\n",
      "Epoch 95/100\n",
      "8000/8000 [==============================] - 1s 112us/step - loss: 0.1690 - accuracy: 0.9449\n",
      "Epoch 96/100\n",
      "8000/8000 [==============================] - 1s 115us/step - loss: 0.1680 - accuracy: 0.9430\n",
      "Epoch 97/100\n",
      "8000/8000 [==============================] - 1s 132us/step - loss: 0.1676 - accuracy: 0.9446\n",
      "Epoch 98/100\n",
      "8000/8000 [==============================] - 1s 125us/step - loss: 0.1677 - accuracy: 0.9444\n",
      "Epoch 99/100\n",
      "8000/8000 [==============================] - 1s 117us/step - loss: 0.1669 - accuracy: 0.9459\n",
      "Epoch 100/100\n",
      "8000/8000 [==============================] - 1s 124us/step - loss: 0.1657 - accuracy: 0.9442\n"
     ]
    }
   ],
   "source": [
    "#Compile and Run\n",
    "model.compile(loss= 'categorical_crossentropy', optimizer= 'adam', metrics= ['accuracy'])\n",
    "model.fit(X_train, y_train, epochs= 100, batch_size=10)\n",
    "\n",
    "predicted= np.argmax(model.predict(X_Val), axis=1)\n"
   ]
  },
  {
   "cell_type": "code",
   "execution_count": 65,
   "metadata": {},
   "outputs": [
    {
     "data": {
      "text/plain": [
       "array([3, 1, 2, ..., 2, 2, 3], dtype=int64)"
      ]
     },
     "execution_count": 65,
     "metadata": {},
     "output_type": "execute_result"
    }
   ],
   "source": [
    "#Predict for Test Set\n",
    "test_prediction= np.argmax(model.predict(scaled_df_test), axis=1)\n",
    "test_prediction\n"
   ]
  },
  {
   "cell_type": "code",
   "execution_count": 66,
   "metadata": {},
   "outputs": [
    {
     "data": {
      "text/html": [
       "<div>\n",
       "<style scoped>\n",
       "    .dataframe tbody tr th:only-of-type {\n",
       "        vertical-align: middle;\n",
       "    }\n",
       "\n",
       "    .dataframe tbody tr th {\n",
       "        vertical-align: top;\n",
       "    }\n",
       "\n",
       "    .dataframe thead th {\n",
       "        text-align: right;\n",
       "    }\n",
       "</style>\n",
       "<table border=\"1\" class=\"dataframe\">\n",
       "  <thead>\n",
       "    <tr style=\"text-align: right;\">\n",
       "      <th></th>\n",
       "      <th>Accident_ID</th>\n",
       "      <th>Severity</th>\n",
       "    </tr>\n",
       "  </thead>\n",
       "  <tbody>\n",
       "    <tr>\n",
       "      <td>0</td>\n",
       "      <td>1</td>\n",
       "      <td>3</td>\n",
       "    </tr>\n",
       "    <tr>\n",
       "      <td>1</td>\n",
       "      <td>10</td>\n",
       "      <td>1</td>\n",
       "    </tr>\n",
       "    <tr>\n",
       "      <td>2</td>\n",
       "      <td>14</td>\n",
       "      <td>2</td>\n",
       "    </tr>\n",
       "    <tr>\n",
       "      <td>3</td>\n",
       "      <td>17</td>\n",
       "      <td>3</td>\n",
       "    </tr>\n",
       "    <tr>\n",
       "      <td>4</td>\n",
       "      <td>21</td>\n",
       "      <td>1</td>\n",
       "    </tr>\n",
       "  </tbody>\n",
       "</table>\n",
       "</div>"
      ],
      "text/plain": [
       "   Accident_ID  Severity\n",
       "0            1         3\n",
       "1           10         1\n",
       "2           14         2\n",
       "3           17         3\n",
       "4           21         1"
      ]
     },
     "execution_count": 66,
     "metadata": {},
     "output_type": "execute_result"
    }
   ],
   "source": [
    "#Writing the results to a CSV file\n",
    "submission2= pd.DataFrame({\n",
    "        \"Accident_ID\": ID_Col[\"Accident_ID\"],\n",
    "        \"Severity\": test_prediction\n",
    "    })\n",
    "submission2.head()"
   ]
  },
  {
   "cell_type": "code",
   "execution_count": null,
   "metadata": {},
   "outputs": [],
   "source": []
  }
 ],
 "metadata": {
  "kernelspec": {
   "display_name": "Python 3",
   "language": "python",
   "name": "python3"
  },
  "language_info": {
   "codemirror_mode": {
    "name": "ipython",
    "version": 3
   },
   "file_extension": ".py",
   "mimetype": "text/x-python",
   "name": "python",
   "nbconvert_exporter": "python",
   "pygments_lexer": "ipython3",
   "version": "3.7.4"
  }
 },
 "nbformat": 4,
 "nbformat_minor": 2
}
